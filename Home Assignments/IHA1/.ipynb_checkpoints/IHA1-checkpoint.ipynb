{
 "cells": [
  {
   "cell_type": "markdown",
   "metadata": {},
   "source": [
    "# IHA1 - Assignment"
   ]
  },
  {
   "cell_type": "markdown",
   "metadata": {},
   "source": [
    "Welcome to the first individual home assignment!  \n",
    "\n",
    "This assignment consists of two parts:\n",
    " * Python and NumPy exercises\n",
    " * Build a deep neural network for forward propagation\n",
    "  \n",
    "The focus of this assignment is for you to gain practical knowledge with implementing forward propagation of deep neural networks without using any deep learning framework. You will also gain practical knowledge in two of Python's scientific libraries [NumPy](https://docs.scipy.org/doc/numpy-1.13.0/index.html) and [Matplotlib](https://matplotlib.org/devdocs/index.html).  \n",
    "\n",
    "Skeleton code is provided for most tasks and every part you are expected to implement is marked with **TODO**\n",
    "\n",
    "We expect you to search and learn by yourself any commands you think are useful for these tasks. Don't limit yourself to only what was taught in CL1. Use the help function, [stackoverflow](https://stackoverflow.com/), google, the [python documentation](https://docs.python.org/3.5/library/index.html) and the [NumPy](https://docs.scipy.org/doc/numpy-1.13.0/index.html) documentation to your advantage.  \n",
    "\n",
    "**IMPORTANT NOTE**: The tests available are not exhaustive, meaning that if you pass a test you have avoided the most common mistakes, but it is still not guaranteed that you solution is 100% correct.  \n",
    "\n",
    "Lets start by importing the necessary libraries below"
   ]
  },
  {
   "cell_type": "code",
   "execution_count": 148,
   "metadata": {},
   "outputs": [],
   "source": [
    "import numpy as np\n",
    "import matplotlib.pyplot as plt\n",
    "from utils.tests.iha1Tests import *"
   ]
  },
  {
   "cell_type": "markdown",
   "metadata": {},
   "source": [
    "## 1. Lists and arrays introduction\n",
    "First, we will warm up with a Python exercise and few NumPy exercises"
   ]
  },
  {
   "cell_type": "markdown",
   "metadata": {},
   "source": [
    "### 1.1 List comprehensions\n",
    "Examine the code snippet provided below"
   ]
  },
  {
   "cell_type": "code",
   "execution_count": 149,
   "metadata": {},
   "outputs": [
    {
     "name": "stdout",
     "output_type": "stream",
     "text": [
      "[0, 4, 16, 36, 64, 100, 144, 196, 256, 324, 400, 484, 576]\n"
     ]
    }
   ],
   "source": [
    "myList = []\n",
    "for i in range(25):\n",
    "    if i % 2 == 0:\n",
    "        myList.append(i**2)\n",
    "        \n",
    "print(myList)"
   ]
  },
  {
   "cell_type": "markdown",
   "metadata": {},
   "source": [
    "This is not a very \"[pythonic](http://docs.python-guide.org/en/latest/writing/style/)\" way of writing. Lets re-write the code above using a [list comprehension](https://docs.python.org/2/tutorial/datastructures.html#list-comprehensions). The result will be less code, more readable and elegant. Your solution should be able to fit into one line of code."
   ]
  },
  {
   "cell_type": "code",
   "execution_count": 150,
   "metadata": {},
   "outputs": [
    {
     "name": "stdout",
     "output_type": "stream",
     "text": [
      "[0, 4, 16, 36, 64, 100, 144, 196, 256, 324, 400, 484, 576]\n"
     ]
    }
   ],
   "source": [
    "#myList = None # TODO\n",
    "myList = [x**2 for x in range(25) if x%2 == 0]   #list comprehension task\n",
    "print(myList)"
   ]
  },
  {
   "cell_type": "code",
   "execution_count": 151,
   "metadata": {},
   "outputs": [],
   "source": [
    "# sample output from cell above for reference"
   ]
  },
  {
   "cell_type": "markdown",
   "metadata": {},
   "source": [
    "### 1.2 Numpy array vs numpy vectors\n",
    "Run the cell below to create a numpy array.   "
   ]
  },
  {
   "cell_type": "code",
   "execution_count": 152,
   "metadata": {},
   "outputs": [
    {
     "name": "stdout",
     "output_type": "stream",
     "text": [
      "[  1   9  25  49  81 121 169 225 289 361 441 529]\n",
      "(12,)\n"
     ]
    }
   ],
   "source": [
    "myArr = np.array([1, 9, 25, 49, 81, 121, 169, 225, 289, 361, 441, 529])\n",
    "print(myArr)\n",
    "print(myArr.shape)"
   ]
  },
  {
   "cell_type": "markdown",
   "metadata": {},
   "source": [
    "One of the core features of numpy is to efficiently perform linear algebra operations.\n",
    "There are two types of one-dimensional representations in numpy: arrays of shape (x,) and vectors of shape (x,1)\n",
    "\n",
    "The the above result indicates that **myArr** is an array of 12 elements with shape (12,).  \n",
    "\n",
    "Numpy's arrays and vectors both have the type of `numpy.ndarray` but have in some cases different characteristics and it is important to separate the two types because it will save a lot of debugging time later on. Read more about numpy shapes [here](https://stackoverflow.com/a/22074424)   \n",
    "\n",
    "Run the code below to see how the transpose operation behaves differently between an array and vector"
   ]
  },
  {
   "cell_type": "code",
   "execution_count": 153,
   "metadata": {},
   "outputs": [
    {
     "name": "stdout",
     "output_type": "stream",
     "text": [
      "myArr is an array of shape:\n",
      "(12,)\n",
      "The transpose of myArr has the shape:\n",
      "(12,)\n",
      "myVec is a vector of shape:\n",
      "(12, 1)\n",
      "The transpose of myVec has the shape:\n",
      "(1, 12)\n"
     ]
    }
   ],
   "source": [
    "# print the shape of an array and the shape of a transposed array\n",
    "print('myArr is an array of shape:')\n",
    "print(myArr.shape)\n",
    "print('The transpose of myArr has the shape:')\n",
    "print(myArr.T.shape)\n",
    "\n",
    "# print the shape of a vector and the transpose of a vector\n",
    "myVec = myArr.reshape(12,1)\n",
    "print('myVec is a vector of shape:')\n",
    "print(myVec.shape)\n",
    "print('The transpose of myVec has the shape:')\n",
    "print(myVec.T.shape)"
   ]
  },
  {
   "cell_type": "markdown",
   "metadata": {},
   "source": [
    "### 1.3 Numpy exercises\n",
    "Now run the cell below to create the numpy array `numbers` and then complete the exercises sequentially"
   ]
  },
  {
   "cell_type": "code",
   "execution_count": 154,
   "metadata": {},
   "outputs": [
    {
     "name": "stdout",
     "output_type": "stream",
     "text": [
      "[ 0  1  2  3  4  5  6  7  8  9 10 11 12 13 14 15 16 17 18 19 20 21 22 23]\n"
     ]
    }
   ],
   "source": [
    "numbers = np.arange(24)\n",
    "print(numbers)"
   ]
  },
  {
   "cell_type": "code",
   "execution_count": 155,
   "metadata": {
    "scrolled": true
   },
   "outputs": [
    {
     "name": "stdout",
     "output_type": "stream",
     "text": [
      "[[ 0  1  2  3]\n",
      " [ 4  5  6  7]\n",
      " [ 8  9 10 11]\n",
      " [12 13 14 15]\n",
      " [16 17 18 19]\n",
      " [20 21 22 23]]\n"
     ]
    }
   ],
   "source": [
    "# TODO: reshape numbers into a 6x4 matrix\n",
    "numbers = numbers.reshape(6,4)\n",
    "print(numbers)"
   ]
  },
  {
   "cell_type": "code",
   "execution_count": 156,
   "metadata": {
    "scrolled": true
   },
   "outputs": [],
   "source": [
    "# sample output from cell above for reference"
   ]
  },
  {
   "cell_type": "code",
   "execution_count": 157,
   "metadata": {},
   "outputs": [
    {
     "name": "stdout",
     "output_type": "stream",
     "text": [
      "Test passed\n"
     ]
    }
   ],
   "source": [
    "# test case\n",
    "test_numpy_reshape(numbers)"
   ]
  },
  {
   "cell_type": "code",
   "execution_count": 158,
   "metadata": {},
   "outputs": [
    {
     "name": "stdout",
     "output_type": "stream",
     "text": [
      "[[ 0  1  2  3]\n",
      " [ 4  5  6  7]\n",
      " [ 8  9 10 11]\n",
      " [12 13 14 15]\n",
      " [16 17 18 19]\n",
      " [20 21 22  0]]\n"
     ]
    }
   ],
   "source": [
    "# TODO: set the element of the last row of the last column to zero\n",
    "numbers[0,0] = 0\n",
    "numbers[-1,-1] = 0\n",
    "# Hint: Try what happends when indices are negative\n",
    "print(numbers)"
   ]
  },
  {
   "cell_type": "code",
   "execution_count": 159,
   "metadata": {},
   "outputs": [],
   "source": [
    "# sample output from cell above for reference"
   ]
  },
  {
   "cell_type": "code",
   "execution_count": 160,
   "metadata": {},
   "outputs": [
    {
     "name": "stdout",
     "output_type": "stream",
     "text": [
      "Test passed\n"
     ]
    }
   ],
   "source": [
    "# test case\n",
    "test_numpy_neg_ix(numbers)"
   ]
  },
  {
   "cell_type": "code",
   "execution_count": 161,
   "metadata": {},
   "outputs": [
    {
     "name": "stdout",
     "output_type": "stream",
     "text": [
      "[[ 0  0  0  0]\n",
      " [ 4  5  6  7]\n",
      " [ 8  9 10 11]\n",
      " [12 13 14 15]\n",
      " [16 17 18 19]\n",
      " [20 21 22  0]]\n"
     ]
    }
   ],
   "source": [
    "# TODO: set every element of the 0th row to 0\n",
    "for j in range(numbers.shape[1]):\n",
    "    numbers[0,j] = 0\n",
    "\n",
    "print(numbers)"
   ]
  },
  {
   "cell_type": "code",
   "execution_count": 162,
   "metadata": {},
   "outputs": [],
   "source": [
    "# sample output from cell above for reference"
   ]
  },
  {
   "cell_type": "code",
   "execution_count": 163,
   "metadata": {},
   "outputs": [
    {
     "name": "stdout",
     "output_type": "stream",
     "text": [
      "Test passed\n"
     ]
    }
   ],
   "source": [
    "# test case\n",
    "test_numpy_row_ix(numbers)"
   ]
  },
  {
   "cell_type": "code",
   "execution_count": 164,
   "metadata": {},
   "outputs": [
    {
     "name": "stdout",
     "output_type": "stream",
     "text": [
      "[[ 0  0  0  0]\n",
      " [ 4  5  6  7]\n",
      " [ 8  9 10 11]\n",
      " [12 13 14 15]\n",
      " [16 17 18 19]\n",
      " [20 21 22  0]\n",
      " [ 0  0  0  0]]\n",
      "(7, 4)\n"
     ]
    }
   ],
   "source": [
    "# TODO: append a 1x4 row vector of zeros to `numbers`, \n",
    "# resulting in a 7x4 matrix where the new row of zeros is the last row\n",
    "# Hint: A new matrix must be created in the procedure. Numpy arrays are not dynamic.\n",
    "\n",
    "ext_numbers = np.zeros((1,4), dtype = int)\n",
    "numbers = np.append(numbers, ext_numbers, axis = 0)\n",
    "\n",
    "print(numbers)\n",
    "print(numbers.shape)"
   ]
  },
  {
   "cell_type": "code",
   "execution_count": 165,
   "metadata": {},
   "outputs": [],
   "source": [
    "# sample output from cell above for reference"
   ]
  },
  {
   "cell_type": "code",
   "execution_count": 166,
   "metadata": {},
   "outputs": [
    {
     "name": "stdout",
     "output_type": "stream",
     "text": [
      "Test passed\n"
     ]
    }
   ],
   "source": [
    "# test case\n",
    "test_numpy_append_row(numbers)"
   ]
  },
  {
   "cell_type": "code",
   "execution_count": 167,
   "metadata": {},
   "outputs": [
    {
     "name": "stdout",
     "output_type": "stream",
     "text": [
      "[[ 0  0  0  0]\n",
      " [ 4  5  6  7]\n",
      " [ 8  9 10  1]\n",
      " [ 1  1  1  1]\n",
      " [ 1  1  1  1]\n",
      " [ 1  1  1  0]\n",
      " [ 0  0  0  0]]\n"
     ]
    }
   ],
   "source": [
    "# TODO: set all elements above 10 to the value 1\n",
    "(i,j) = numbers.shape\n",
    "\n",
    "newnum = []\n",
    "for x in np.nditer(numbers):\n",
    "    if int(x) <= 10:\n",
    "        newnum = newnum + [int(x)]\n",
    "    else:\n",
    "        newnum = newnum + [1]\n",
    "\n",
    "numbers = np.array(newnum)\n",
    "numbers = numbers.reshape(i,j)\n",
    "print(numbers)"
   ]
  },
  {
   "cell_type": "code",
   "execution_count": 168,
   "metadata": {},
   "outputs": [],
   "source": [
    "# sample output from cell above for reference"
   ]
  },
  {
   "cell_type": "code",
   "execution_count": 169,
   "metadata": {},
   "outputs": [
    {
     "name": "stdout",
     "output_type": "stream",
     "text": [
      "Test passed\n"
     ]
    }
   ],
   "source": [
    "# test case\n",
    "test_numpy_bool_matrix(numbers)"
   ]
  },
  {
   "cell_type": "code",
   "execution_count": 170,
   "metadata": {},
   "outputs": [
    {
     "name": "stdout",
     "output_type": "stream",
     "text": [
      "(7,)\n",
      "[ 0 22 28  4  4  3  0]\n"
     ]
    }
   ],
   "source": [
    "# TODO: compute the sum of every row and replace `numbers` with the answer\n",
    "# `numbers` will be a (7,) array as a result\n",
    "\n",
    "temp_num = np.zeros(numbers.shape[0], dtype = int)\n",
    "\n",
    "for i in range(numbers.shape[0]):\n",
    "    for j in np.nditer(numbers[i]):\n",
    "        temp_num[i] = temp_num[i] + j\n",
    "\n",
    "numbers = temp_num\n",
    "\n",
    "print(numbers.shape)\n",
    "print(numbers)"
   ]
  },
  {
   "cell_type": "code",
   "execution_count": 171,
   "metadata": {},
   "outputs": [],
   "source": [
    "# sample output from cell above for reference"
   ]
  },
  {
   "cell_type": "code",
   "execution_count": 172,
   "metadata": {},
   "outputs": [
    {
     "name": "stdout",
     "output_type": "stream",
     "text": [
      "Test passed\n"
     ]
    }
   ],
   "source": [
    "# test case\n",
    "test_numpy_sum(numbers)"
   ]
  },
  {
   "cell_type": "markdown",
   "metadata": {},
   "source": [
    "## 2 Building your deep neural network\n",
    "It is time to start implementing your first feed-forward neural network. In this lab you will only focus on implementing the forward propagation procedure.  \n",
    "\n",
    "When using a neural network, you can not forward propagate the entire dataset at once. Therefore, you divide the dataset into a number of sets/parts called batches. A batch will make up for the first dimension of every input to a layer and the notation `(BATCH_SIZE, NUM_FEATURES)` simply means the dimension of a batch of samples where every sample has `NUM_FEATURES` features"
   ]
  },
  {
   "cell_type": "markdown",
   "metadata": {},
   "source": [
    "### 2.1 activation functions\n",
    "You will start by defining a few activation functions that are later needed by the neural network."
   ]
  },
  {
   "cell_type": "markdown",
   "metadata": {},
   "source": [
    "#### 2.1.1 ReLU\n",
    "The neural network will use the ReLU activation function in every layer except for the last. ReLU does element-wise comparison of the input matrix. For example, if the input is `X`, and `X[i,j] == 2` and `X[k,l] == -1`, then after applying ReLU, `X[i,j] == 2` and `X[k,l] == 0` should be true.  \n",
    "\n",
    "The formula for implementing ReLU for a single neuron $i$ is:\n",
    "\\begin{equation}\n",
    "relu(z_i) = \n",
    "    \\begin{cases}\n",
    "      0, & \\text{if}\\ z_i \\leq 0 \\\\\n",
    "      z_i, & \\text{otherwise}\n",
    "    \\end{cases}\n",
    "\\end{equation}\n",
    "\n",
    "Now implement `relu` in vectorized form"
   ]
  },
  {
   "cell_type": "code",
   "execution_count": 173,
   "metadata": {},
   "outputs": [],
   "source": [
    "def relu(z):\n",
    "    \"\"\" Implement the ReLU activation function\n",
    "    \n",
    "    Arguments:\n",
    "    z - the input of the activation function. Has a type of `numpy.ndarray`\n",
    "    \n",
    "    Returns:\n",
    "    a - the output of the activation function. Has a type of numpy.ndarray and the same shape as `z`\n",
    "    \"\"\"\n",
    "    \n",
    "    if not isinstance(z, np.ndarray):\n",
    "        if z <= 0:\n",
    "            return 0\n",
    "        else:\n",
    "            return z\n",
    "\n",
    "    temp_vec = np.zeros(z.shape)\n",
    "    a = np.max([temp_vec, z], axis = 0)\n",
    "    \n",
    "    return a"
   ]
  },
  {
   "cell_type": "code",
   "execution_count": 174,
   "metadata": {},
   "outputs": [
    {
     "name": "stdout",
     "output_type": "stream",
     "text": [
      "Test passed\n"
     ]
    }
   ],
   "source": [
    "# test case\n",
    "test_relu(relu)"
   ]
  },
  {
   "cell_type": "markdown",
   "metadata": {},
   "source": [
    "#### 2.1.2 Sigmoid\n",
    "The sigmoid activation function is common for binary classification. This is because it squashes its input to the range [0,1].  \n",
    "Implement the activation function `sigmoid` using the formula:  \n",
    "\\begin{equation}\n",
    "    \\sigma(z) = \\frac{1}{1 + e^{-z}}\n",
    "\\end{equation}"
   ]
  },
  {
   "cell_type": "code",
   "execution_count": 175,
   "metadata": {},
   "outputs": [],
   "source": [
    "def sigmoid(z):\n",
    "    \"\"\" Implement the sigmoid activation function\n",
    "    \n",
    "    Arguments:\n",
    "    z - the input of the activation function. Has a type of `numpy.ndarray`\n",
    "    \n",
    "    Returns:\n",
    "    a - the output of the activation function. Has a type of `numpy.ndarray` and the same shape as `z`\n",
    "    \"\"\"\n",
    "\n",
    "    temp_vec = 1/(1+np.exp(-z))\n",
    "    a = temp_vec.reshape(z.shape)\n",
    "    return a\n",
    "    \n"
   ]
  },
  {
   "cell_type": "code",
   "execution_count": 176,
   "metadata": {},
   "outputs": [
    {
     "name": "stdout",
     "output_type": "stream",
     "text": [
      "Test passed\n"
     ]
    }
   ],
   "source": [
    "# test case\n",
    "test_sigmoid(sigmoid)"
   ]
  },
  {
   "cell_type": "markdown",
   "metadata": {},
   "source": [
    "#### 2.1.3 Visualization\n",
    "Make a plot using matplotlib to visualize the activation functions between the input interval [-3,3]. The plot should have the following properties\n",
    " * one plot should contain a visualization of both `ReLU` and `sigmoid`\n",
    " * x-axis: range of values between [-3,3], **hint**: np.linspace\n",
    " * y-axis: the value of the activation functions at a given input `x`\n",
    " * a legend explaining which line represents which activation function"
   ]
  },
  {
   "cell_type": "code",
   "execution_count": 177,
   "metadata": {},
   "outputs": [
    {
     "data": {
      "text/plain": [
       "<matplotlib.legend.Legend at 0x7f57ae6b8978>"
      ]
     },
     "execution_count": 177,
     "metadata": {},
     "output_type": "execute_result"
    },
    {
     "data": {
      "image/png": "[encoded data removed]",
      "text/plain": [
       "<Figure size 432x288 with 1 Axes>"
      ]
     },
     "metadata": {},
     "output_type": "display_data"
    }
   ],
   "source": [
    "# TODO: make a plot of ReLU and sigmoid values in the interval [-3,3]\n",
    "\n",
    "xaxis = np.linspace(-3,3,100)\n",
    "plt.plot(xaxis, relu(xaxis), 'b', label = \"ReLu\")\n",
    "plt.plot(xaxis ,sigmoid(xaxis), 'r', label = \"Sigmoid\")\n",
    "plt.xlabel(\"Input, x\")\n",
    "plt.ylabel(\"Activation function on Input x, y\")\n",
    "plt.grid()\n",
    "plt.legend(loc = 'upper left')"
   ]
  },
  {
   "cell_type": "code",
   "execution_count": 178,
   "metadata": {},
   "outputs": [],
   "source": [
    "# sample output from cell above for reference"
   ]
  },
  {
   "cell_type": "markdown",
   "metadata": {},
   "source": [
    "#### 2.1.4 Softmax\n",
    "You will use the softmax activation function / classifier as the final layer of your neural network later in the assignment. Implement `softmax` according the the formula below. The subtraction of the maximum value is there solely to avoid overflows in a practical implementation.\n",
    "\\begin{equation}\n",
    "softmax(z_i) = \\frac{e^{z_i - max(\\mathbf{z})}}{ \\sum^j e^{z_j - max(\\mathbf{z})}}\n",
    "\\end{equation}\n"
   ]
  },
  {
   "cell_type": "code",
   "execution_count": 179,
   "metadata": {},
   "outputs": [],
   "source": [
    "def softmax(z):\n",
    "    \"\"\" Implement the softmax activation function\n",
    "    \n",
    "    Arguments:\n",
    "    z - the input of the activation function, shape (BATCH_SIZE, FEATURES) and type `numpy.ndarray`\n",
    "    \n",
    "    Returns:\n",
    "    a - the output of the activation function, shape (BATCH_SIZE, FEATURES) and type umpy.ndarray\n",
    "    \"\"\"\n",
    "    \n",
    "    if not isinstance(z, np.ndarray):\n",
    "        t = 1\n",
    "        return t\n",
    "    if z.ndim == 2:\n",
    "        m = np.max(z, axis = 1)\n",
    "        m = m[:,np.newaxis]\n",
    "        e_z = np.exp(z - m)\n",
    "        sume_z = np.sum(e_z, axis = 1)\n",
    "        sume_z = sume_z[:,np.newaxis]\n",
    "        a = e_z / sume_z\n",
    "        return a\n",
    "    else:\n",
    "        return 1\n",
    "\n",
    "    #a = None # TODO\n",
    "    \n",
    "   "
   ]
  },
  {
   "cell_type": "code",
   "execution_count": 180,
   "metadata": {},
   "outputs": [
    {
     "name": "stdout",
     "output_type": "stream",
     "text": [
      "Test passed\n"
     ]
    }
   ],
   "source": [
    "# test case\n",
    "test_softmax(softmax)"
   ]
  },
  {
   "cell_type": "markdown",
   "metadata": {},
   "source": [
    "### 2.2 Initialize weights\n",
    "You will implement a helper function that takes the shape of a layer as input, and returns an initialized weight matrix $\\mathbf{W}$ and bias vector $\\mathbf{b}$ as output. $\\mathbf{W}$ should be sampled from a normal distribution of mean 0 and standard deviation 2, and $\\mathbf{b}$ should be initialized to all zeros."
   ]
  },
  {
   "cell_type": "code",
   "execution_count": 181,
   "metadata": {},
   "outputs": [],
   "source": [
    "def initialize_weights(layer_shape):\n",
    "    \"\"\" Implement initialization of the weight matrix and biases\n",
    "    \n",
    "    Arguments:\n",
    "    layer_shape - a tuple of length 2, type (int, int), that determines the dimensions of the weight matrix: (input_dim, output_dim)\n",
    "    \n",
    "    Returns:\n",
    "    w - a weight matrix with dimensions of `layer_shape`, (input_dim, output_dim), that is normally distributed with\n",
    "        properties mu = 0, stddev = 2. Has a type of `numpy.ndarray`\n",
    "    b - a vector of initialized biases with shape (1,output_dim), all of value zero. Has a type of `numpy.ndarray`\n",
    "    \"\"\"\n",
    "    mu, sigma = 0, 2\n",
    "    \n",
    "    w = np.random.normal(mu, sigma, layer_shape) # TODO\n",
    "    b = np.zeros( (1,layer_shape[1])) # TODO\n",
    "    \n",
    "    return w, b"
   ]
  },
  {
   "cell_type": "code",
   "execution_count": 182,
   "metadata": {},
   "outputs": [
    {
     "name": "stdout",
     "output_type": "stream",
     "text": [
      "Test passed\n"
     ]
    }
   ],
   "source": [
    "# test case\n",
    "test_initialize_weights(initialize_weights)"
   ]
  },
  {
   "cell_type": "markdown",
   "metadata": {},
   "source": [
    "### 2.3 Feed-forward neural network layer module\n",
    "To build a feed-forward neural network of arbitrary depth you are going to define a neural network layer as a module that can be used to stack upon eachother.  \n",
    "\n",
    "Your task is to complete the `Layer` class by following the descriptions in the comments.  \n",
    "\n",
    "Recall the formula for forward propagation of an arbitrary layer $l$:\n",
    "\n",
    "\\begin{equation}\n",
    "\\mathbf{a}^{[l]} = g(\\mathbf{z}^{[l]}) = g(\\mathbf{a}^{[l-1]}\\mathbf{w}^{[l]} +\\mathbf{b}^{[l]})\n",
    "\\end{equation}\n",
    "\n",
    "$g$ is the activation function given by `activation_fn`, which can be relu, sigmoid or softmax. "
   ]
  },
  {
   "cell_type": "code",
   "execution_count": 183,
   "metadata": {},
   "outputs": [],
   "source": [
    "class Layer:\n",
    "    \"\"\" \n",
    "    TODO: Build a class called Layer that satisfies the descriptions of the methods\n",
    "    Make sure to utilize the helper functions you implemented before\n",
    "    \"\"\"\n",
    "    \n",
    "    def __init__(self, input_dim, output_dim, activation_fn=relu):\n",
    "        \"\"\"\n",
    "        Arguments:\n",
    "        input_dim - the number of inputs of the layer. type int\n",
    "        output_dim - the number of outputs of the layer. type int\n",
    "        activation_fn - a reference to the activation function to use. Should be `relu` as a default\n",
    "                        possible values are the `relu`, `sigmoid` and `softmax` functions you implemented earlier.\n",
    "                        Has the type `function`\n",
    "        \n",
    "        Attributes:\n",
    "        w - the weight matrix of the layer, should be initialized with `initialize_weights`\n",
    "            and has the shape (INPUT_FEATURES, OUTPUT_FEATURES) and type `numpy.ndarray`\n",
    "        b - the bias vector of the layer, should be initialized with `initialize_weights`\n",
    "            and has the shape (1, OUTPUT_FEATURES) and type `numpy.ndarray`\n",
    "        activation_fn - a reference to the activation function to use.\n",
    "                        Has the type `function`\n",
    "        \"\"\"\n",
    "        self.w, self.b = initialize_weights((input_dim, output_dim)) # TODO\n",
    "        \n",
    "        self.activation_fn = activation_fn # TODO\n",
    "        \n",
    "    def forward_prop(self, a_prev):\n",
    "        \"\"\" Implement the forward propagation module of the neural network layer\n",
    "        Should use whatever activation function that `activation_fn` references to\n",
    "        \n",
    "        Arguments:\n",
    "        a_prev - the input to the layer, which may be the data `X`, or the output from the previous layer.\n",
    "            a_prev has the shape of (BATCH_SIZE, INPUT_FEATURES) and the type `numpy.ndarray`\n",
    "        \n",
    "        Returns:\n",
    "        a - the output of the layer when performing forward propagation. Has the type `numpy.ndarray`\n",
    "        \"\"\"\n",
    "        \n",
    "        a = self.activation_fn(np.matmul(a_prev, self.w) + self.b) # TODO\n",
    "        \n",
    "        return a"
   ]
  },
  {
   "cell_type": "code",
   "execution_count": 184,
   "metadata": {},
   "outputs": [
    {
     "name": "stdout",
     "output_type": "stream",
     "text": [
      "Test passed\n"
     ]
    }
   ],
   "source": [
    "# test case, be sure that you pass the previous activation function tests before running this test\n",
    "test_layer(Layer, relu, sigmoid, softmax)"
   ]
  },
  {
   "cell_type": "markdown",
   "metadata": {},
   "source": [
    "### 2.4 Logistic regression \n",
    "Binary logistic regression is a classifier where classification is performed by applying the sigmoid activation function to a linear combination of input values. You will now try out your neural network layer by utilizing it as a linear combination of input values and apply the sigmoid activation function to classify a simple problem. \n",
    "\n",
    "The cell below defines a dataset of 5 points of either class `0` or class `1`. Your assignment is to:  \n",
    "1. Create an instance of a `Layer` with sigmoid activation function  \n",
    "2. Manually tune the weights `w` and `b` of your layer\n",
    "\n",
    "You can use `test_logistic` to visually inspect how your classifier is performing."
   ]
  },
  {
   "cell_type": "code",
   "execution_count": 185,
   "metadata": {},
   "outputs": [
    {
     "data": {
      "image/png": "[encoded data removed]",
      "text/plain": [
       "<Figure size 864x360 with 2 Axes>"
      ]
     },
     "metadata": {},
     "output_type": "display_data"
    }
   ],
   "source": [
    "# Run this cell to create the dataset\n",
    "X_s = np.array([[1, 2],\n",
    "               [5, 3],\n",
    "               [8, 8],\n",
    "               [7, 5],\n",
    "               [3, 6]])\n",
    "Y_s = np.array([0,0,1,0,1])\n",
    "\n",
    "test_logistic(X_s, Y_s)"
   ]
  },
  {
   "cell_type": "code",
   "execution_count": 186,
   "metadata": {
    "scrolled": true
   },
   "outputs": [
    {
     "data": {
      "image/png": "[encoded data removed]",
      "text/plain": [
       "<Figure size 864x360 with 2 Axes>"
      ]
     },
     "metadata": {},
     "output_type": "display_data"
    },
    {
     "name": "stdout",
     "output_type": "stream",
     "text": [
      "test passed!\n"
     ]
    }
   ],
   "source": [
    "# create an instance of layer\n",
    "l = Layer(2,1,sigmoid)\n",
    "\n",
    "# TODO: manually tune weights\n",
    "mu, sigma = 0, 5\n",
    "\n",
    "l.w = np.array([-0.96,1.155])\n",
    "l.b = np.array([-1.35])\n",
    "\n",
    "# testing your choice of weights with this function\n",
    "test_logistic(X_s,Y_s,l,sigmoid)\n",
    "\n"
   ]
  },
  {
   "cell_type": "code",
   "execution_count": 187,
   "metadata": {},
   "outputs": [],
   "source": [
    "# sample output from cell above for reference"
   ]
  },
  {
   "cell_type": "markdown",
   "metadata": {},
   "source": [
    "### 2.5 Feed-forward neural network\n",
    "Now define the actual neural network class. It is an L-layer neural network, meaning that the number of layers and neurons in each layer is specified as input by the user. Once again, you will only focus on implementing the forward propagation part.\n",
    "\n",
    "Read the descriptions in the comments and complete the todos  "
   ]
  },
  {
   "cell_type": "code",
   "execution_count": 188,
   "metadata": {},
   "outputs": [
    {
     "name": "stdout",
     "output_type": "stream",
     "text": [
      "[[12.32740707  0.        ]\n",
      " [16.87432742  0.        ]] 2\n",
      "[[5.00670746e-03 1.40021168e-10 9.94993292e-01]\n",
      " [7.14025765e-04 3.26832984e-14 9.99285974e-01]]\n"
     ]
    }
   ],
   "source": [
    "x = np.array([[1,2], [3,4], [5,6]])\n",
    "layer_dim = [2,3]\n",
    "\n",
    "layer = Layer(3, layer_dim[0], relu)\n",
    "a1 = layer.forward_prop(x.T)\n",
    "print(a1, a1.shape[0])\n",
    "layer = Layer(a1.shape[0], layer_dim[1], softmax)\n",
    "a2 = layer.forward_prop(a1)\n",
    "print(a2)"
   ]
  },
  {
   "cell_type": "code",
   "execution_count": 189,
   "metadata": {},
   "outputs": [],
   "source": [
    "class NeuralNetwork:\n",
    "    \"\"\" \n",
    "    TODO: Implement an L-layer neural network class by utilizing the Layer module defined above \n",
    "    Each layer should use `relu` activation function, except for the output layer, which should use `softmax`\n",
    "    \"\"\"\n",
    "    \n",
    "    def __init__(self, input_n, layer_dims):\n",
    "        \"\"\"\n",
    "        Arguments:\n",
    "        input_n    - the number of inputs to the network. Should be the same as the length of a data sample\n",
    "                     Has type int\n",
    "        layer_dims - a python list or tuple of the number of neurons in each layer. Layer `l` should have a weight matrix  \n",
    "                     with the shape (`layer_dims[l-1]`, `layer_dims[l]`). \n",
    "                     `layer_dims[-1]` is the dimension of the output layer.\n",
    "                     Layer 1 should have the dimensions (`input_n`, `layer_dims[0]`).\n",
    "                     len(layer_dims) is the depth of the neural network\n",
    "        Attributes:\n",
    "        input_n - the number of inputs to the network. Has type int\n",
    "        layers  - a python list of each layer in the network. Each layer should use the `relu` activation function,\n",
    "                  except for the last layer, which should use `softmax`. \n",
    "                  Has type `list` containing layers of type `Layer`\n",
    "        \"\"\"\n",
    "        \n",
    "        self.input_n = input_n # TODO\n",
    "        self.layers = []\n",
    "        for i in range(len(layer_dims)):\n",
    "            if i == 0:\n",
    "                temp = Layer(input_n, layer_dims[i], relu)\n",
    "                self.layers.append(temp)\n",
    "            elif i == len(layer_dims)-1:\n",
    "                temp = Layer(layer_dims[i-1], layer_dims[i], softmax)\n",
    "                self.layers.append(temp)\n",
    "            else:\n",
    "                temp = Layer(layer_dims[i-1], layer_dims[i], relu)\n",
    "                self.layers.append(temp)\n",
    "        \n",
    "    def forward_prop(self, x):\n",
    "        \"\"\" \n",
    "        Implement the forward propagation procedure through the entire network, from input to output.\n",
    "        You will now connect each layer's forward propagation function into a chain of layer-wise forward propagations.\n",
    "        \n",
    "        Arguments:\n",
    "        x - the input data, which has the shape (BATCH_SIZE, NUM_FEATURES) and type `numpy.ndarray`\n",
    "        \n",
    "        Returns:\n",
    "        a - the output of the last layer after forward propagating through the every layer in `layers`.\n",
    "            Should have the dimension (BATCH_SIZE, layers[-1].w.shape[1]) and type `numpy.ndarray`\n",
    "        \"\"\"\n",
    "        a_prev = x\n",
    "        for i in range(len(self.layers)):\n",
    "            a_prev = self.layers[i].forward_prop(a_prev)\n",
    "\n",
    "        \n",
    "        a = a_prev # TODO\n",
    "        print(a)    \n",
    "        return a"
   ]
  },
  {
   "cell_type": "code",
   "execution_count": 190,
   "metadata": {},
   "outputs": [
    {
     "name": "stdout",
     "output_type": "stream",
     "text": [
      "[[0.9780258  0.00112902 0.02084518]\n",
      " [0.7073134  0.08327279 0.20941381]]\n",
      "Test passed\n"
     ]
    }
   ],
   "source": [
    "# test case\n",
    "test_neuralnetwork(NeuralNetwork)"
   ]
  },
  {
   "cell_type": "markdown",
   "metadata": {},
   "source": [
    "## 3 Making predictions with a neural network\n",
    "In practice, its common to load weights to your neural network that has already been trained.  \n",
    "In this section, you will create an instance of your neural network, load trained weights from disk, and perform predictions.\n",
    "\n",
    "### 3.1 Load weights from disk\n",
    "Create an instance of `NeuralNetwork` with input size $28 \\times 28 = 784$, two hidden layers of size 100 and an output layer of size 10. Thereafter, load the weights contained in `./utils/ann_weights.npz` to your network."
   ]
  },
  {
   "cell_type": "code",
   "execution_count": 191,
   "metadata": {},
   "outputs": [],
   "source": [
    "ann = NeuralNetwork(784, [100,100,10]) # TODO: create instance of ann\n",
    "\n",
    "# load weights\n",
    "weights = np.load('./utils/ann_weights.npz')\n",
    "for l in range(len(ann.layers)):\n",
    "    ann.layers[l].w = weights['w' + str(l)]\n",
    "    ann.layers[l].b = weights['b' + str(l)]"
   ]
  },
  {
   "cell_type": "markdown",
   "metadata": {},
   "source": [
    "### 3.2 Prediction\n",
    "Now, implement the function `predict_and_correct` which does the following:\n",
    "1. Load `./utils/test_data.npz` from disk\n",
    "2. Extract test data `X` and `Y` from file\n",
    "2. Perform for every pair of data:  \n",
    "    a. plot the image `x`  \n",
    "    b. make a prediction using your neural network by forward propagating and picking the most probable class  \n",
    "    c. check wether the prediction is correct (compare with the ground truth number `y`)   \n",
    "    d. print the predicted label and wether it was correct or not "
   ]
  },
  {
   "cell_type": "code",
   "execution_count": 192,
   "metadata": {},
   "outputs": [
    {
     "name": "stdout",
     "output_type": "stream",
     "text": [
      "[[3.84474194e-091 0.00000000e+000 1.29757044e-025 1.22570998e-101\n",
      "  0.00000000e+000 1.08925429e-109 0.00000000e+000 1.00000000e+000\n",
      "  3.13400042e-054 3.56421819e-062]\n",
      " [1.76991923e-039 5.11403283e-016 5.10746769e-024 1.00000000e+000\n",
      "  1.67344722e-147 3.22056348e-018 0.00000000e+000 2.42457909e-145\n",
      "  1.13321191e-117 9.37022570e-027]\n",
      " [2.35679453e-002 2.21732282e-002 2.81275231e-002 1.30024218e-001\n",
      "  8.21134504e-002 2.51268751e-002 4.26428327e-003 9.69681296e-003\n",
      "  1.04852088e-001 5.70053575e-001]\n",
      " [6.02224080e-024 2.42940587e-076 7.57144684e-069 6.36740209e-042\n",
      "  8.45739959e-123 1.00000000e+000 9.96662862e-137 8.78597193e-017\n",
      "  6.38491165e-051 2.00145010e-041]\n",
      " [0.00000000e+000 0.00000000e+000 5.95145503e-187 1.03887093e-210\n",
      "  0.00000000e+000 2.86026165e-173 0.00000000e+000 1.00000000e+000\n",
      "  6.79507702e-216 2.62669647e-245]\n",
      " [5.88379715e-006 1.56242324e-009 3.99142578e-008 4.37500476e-014\n",
      "  1.47755915e-005 4.60811153e-007 9.99978838e-001 2.32104494e-062\n",
      "  1.43139177e-015 2.49550251e-048]\n",
      " [4.36680196e-004 2.16026594e-006 2.47850757e-005 4.67203587e-009\n",
      "  9.59352414e-004 1.30667490e-004 9.98446349e-001 3.03377035e-041\n",
      "  1.20555540e-009 2.36436888e-031]\n",
      " [1.65598451e-047 4.36768261e-019 7.19679140e-029 1.00000000e+000\n",
      "  1.93376844e-178 7.29756725e-022 0.00000000e+000 2.31151783e-175\n",
      "  1.21668910e-142 3.58686499e-032]\n",
      " [6.82054241e-020 2.94378843e-009 9.99999944e-001 1.10523644e-008\n",
      "  2.16811552e-016 6.59629132e-010 1.09749782e-011 4.16757492e-008\n",
      "  4.18619829e-016 1.72874080e-058]\n",
      " [2.07916393e-029 9.99576722e-001 5.48737529e-017 1.11541034e-004\n",
      "  2.21490235e-078 3.11736708e-004 1.05206786e-206 6.18095589e-075\n",
      "  4.39075600e-063 3.32632320e-014]\n",
      " [3.19987524e-042 4.57126951e-017 1.02415745e-025 1.00000000e+000\n",
      "  4.66186343e-158 1.60574796e-019 0.00000000e+000 1.96092554e-155\n",
      "  2.30056181e-126 1.75392708e-028]]\n",
      "10\n"
     ]
    },
    {
     "data": {
      "image/png": "[encoded data removed]",
      "text/plain": [
       "<Figure size 432x288 with 1 Axes>"
      ]
     },
     "metadata": {},
     "output_type": "display_data"
    },
    {
     "name": "stdout",
     "output_type": "stream",
     "text": [
      "The prediction was 7, it was correct!\n"
     ]
    },
    {
     "data": {
      "image/png": "[encoded data removed]",
      "text/plain": [
       "<Figure size 432x288 with 1 Axes>"
      ]
     },
     "metadata": {},
     "output_type": "display_data"
    },
    {
     "name": "stdout",
     "output_type": "stream",
     "text": [
      "The prediction was 3, it was correct!\n"
     ]
    },
    {
     "data": {
      "image/png": "[encoded data removed]",
      "text/plain": [
       "<Figure size 432x288 with 1 Axes>"
      ]
     },
     "metadata": {},
     "output_type": "display_data"
    },
    {
     "name": "stdout",
     "output_type": "stream",
     "text": [
      "The prediction was 9, it was correct!\n"
     ]
    },
    {
     "data": {
      "image/png": "[encoded data removed]",
      "text/plain": [
       "<Figure size 432x288 with 1 Axes>"
      ]
     },
     "metadata": {},
     "output_type": "display_data"
    },
    {
     "name": "stdout",
     "output_type": "stream",
     "text": [
      "The prediction was 5, it was correct!\n"
     ]
    },
    {
     "data": {
      "image/png": "[encoded data removed]",
      "text/plain": [
       "<Figure size 432x288 with 1 Axes>"
      ]
     },
     "metadata": {},
     "output_type": "display_data"
    },
    {
     "name": "stdout",
     "output_type": "stream",
     "text": [
      "The prediction was 7, it was correct!\n"
     ]
    },
    {
     "data": {
      "image/png": "[encoded data removed]",
      "text/plain": [
       "<Figure size 432x288 with 1 Axes>"
      ]
     },
     "metadata": {},
     "output_type": "display_data"
    },
    {
     "name": "stdout",
     "output_type": "stream",
     "text": [
      "The prediction was 6, it was correct!\n"
     ]
    },
    {
     "data": {
      "image/png": "[encoded data removed]",
      "text/plain": [
       "<Figure size 432x288 with 1 Axes>"
      ]
     },
     "metadata": {},
     "output_type": "display_data"
    },
    {
     "name": "stdout",
     "output_type": "stream",
     "text": [
      "The prediction was 6, it was correct!\n"
     ]
    },
    {
     "data": {
      "image/png": "[encoded data removed]",
      "text/plain": [
       "<Figure size 432x288 with 1 Axes>"
      ]
     },
     "metadata": {},
     "output_type": "display_data"
    },
    {
     "name": "stdout",
     "output_type": "stream",
     "text": [
      "The prediction was 3, it was correct!\n"
     ]
    },
    {
     "data": {
      "image/png": "[encoded data removed]",
      "text/plain": [
       "<Figure size 432x288 with 1 Axes>"
      ]
     },
     "metadata": {},
     "output_type": "display_data"
    },
    {
     "name": "stdout",
     "output_type": "stream",
     "text": [
      "The prediction was 2, it was correct!\n"
     ]
    },
    {
     "data": {
      "image/png": "[encoded data removed]",
      "text/plain": [
       "<Figure size 432x288 with 1 Axes>"
      ]
     },
     "metadata": {},
     "output_type": "display_data"
    },
    {
     "name": "stdout",
     "output_type": "stream",
     "text": [
      "The prediction was 1, it was incorrect!\n"
     ]
    },
    {
     "data": {
      "image/png": "[encoded data removed]",
      "text/plain": [
       "<Figure size 432x288 with 1 Axes>"
      ]
     },
     "metadata": {},
     "output_type": "display_data"
    },
    {
     "name": "stdout",
     "output_type": "stream",
     "text": [
      "The prediction was 3, it was correct!\n"
     ]
    }
   ],
   "source": [
    "def predict_and_correct(ann):\n",
    "    \"\"\" Load test data from file and predict using your neural network. \n",
    "    Make a prediction for ever data sample and print it along with wether it was a correct prediction or not\n",
    "    \n",
    "    Arguments:\n",
    "    ann - the neural network to use for prediction. Has type `NeuralNetwork`\n",
    "    \n",
    "    Returns: # for test case purposes\n",
    "    A `numpy.ndarray` of predicted classes (integers [0-9]) with shape (11,)\n",
    "    \"\"\"\n",
    "    data = np.load('./utils/test_data.npz')\n",
    "    X, cls = data['X'], data['Y']\n",
    "    \n",
    "    temp_preds = ann.forward_prop(X) # TODO: make a predicted number for every image in X\n",
    "    cls_preds = []\n",
    "    \n",
    "    print(temp_preds.shape[1])\n",
    "    \n",
    "    for i in range(temp_preds.shape[0]):\n",
    "        for j in range(temp_preds.shape[1]):\n",
    "            if temp_preds[i][j] == temp_preds[i].max():\n",
    "                cls_preds.append(j)\n",
    "                break\n",
    "    \n",
    "    for i in range(len(X)):\n",
    "        plt.imshow(X[i].reshape(28,28), cmap='gray')\n",
    "        plt.show()\n",
    "        correct = cls_preds[i] == cls[i]\n",
    "        print('The prediction was {0}, it was {1}!'.format(cls_preds[i], 'correct' if correct else 'incorrect'))\n",
    "        \n",
    "    return cls_preds\n",
    "        \n",
    "cls_pred = predict_and_correct(ann)"
   ]
  },
  {
   "cell_type": "code",
   "execution_count": 193,
   "metadata": {},
   "outputs": [
    {
     "name": "stdout",
     "output_type": "stream",
     "text": [
      "Test passed, you have implemented your neural network correctly!\n"
     ]
    }
   ],
   "source": [
    "# final test case\n",
    "test_predict_and_correct_answer(cls_pred)"
   ]
  },
  {
   "cell_type": "code",
   "execution_count": 194,
   "metadata": {},
   "outputs": [],
   "source": [
    "# sample output from cell above for reference"
   ]
  },
  {
   "cell_type": "markdown",
   "metadata": {},
   "source": [
    "## Congratulations!\n",
    "You have successfully implemented a neural network from scratch using only NumPy!  "
   ]
  }
 ],
 "metadata": {
  "kernelspec": {
   "display_name": "Python 3",
   "language": "python",
   "name": "python3"
  },
  "language_info": {
   "codemirror_mode": {
    "name": "ipython",
    "version": 3
   },
   "file_extension": ".py",
   "mimetype": "text/x-python",
   "name": "python",
   "nbconvert_exporter": "python",
   "pygments_lexer": "ipython3",
   "version": "3.6.6"
  }
 },
 "nbformat": 4,
 "nbformat_minor": 2
}
