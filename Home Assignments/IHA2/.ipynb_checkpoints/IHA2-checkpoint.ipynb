{
 "cells": [
  {
   "cell_type": "markdown",
   "metadata": {},
   "source": [
    "# IHA2 - Catching Pokemon"
   ]
  },
  {
   "cell_type": "markdown",
   "metadata": {},
   "source": [
    "![](http://tibetanitech.com/wp-content/uploads/2016/09/Pokemon-GO.jpg)"
   ]
  },
  {
   "cell_type": "markdown",
   "metadata": {},
   "source": [
    "In this home assignment, you'll apply roughly the same principles we used when doing logistic regression on the Iris dataset, but on a new and very interesting dataset. We'll use the [Predict'em All](https://www.kaggle.com/semioniy/predictemall) dataset from Kaggle (download the dataset directly from them). This dataset consists of roughly 293,000 [pokemon](http://www.pokemongo.com/) sightings (historical appearances of Pokemon in the Pokemon Go game), having coordinates, time, weather, population density, distance to pokestops/ gyms etc. as features. A comprehensive list of all the features is available at [the dataset's homepage](https://www.kaggle.com/semioniy/predictemall)\n",
    "\n",
    "The context is simple: you are a Pokemon hunter, and there are only three Pokemon left for you to complete your collection. You'll do anything to capture them, including changing where you'll spend your next holidays! You know that some Pokemon only spawn in certain places of the world. Since you like machine learning so much, you figure it would be a great idea to train a classifier that, based on a location's latitude and longitude, can tell us which Pokemon is more likely to appear there.\n",
    "\n",
    "The assignment is broken down into six steps.\n",
    "\n",
    "1. Loading the data and extracting the desired subset of it\n",
    "2. Visualization of the dataset\n",
    "3. Preprocessing\n",
    "4. Training\n",
    "5. Evaluation\n",
    "6. Exploration\n",
    "\n",
    "\n",
    "Feel free to add cells wherever you see fit, and play around with this notebook as much as you want when developing the solutions. However, the solution you upload to ping-pong must have the exact format shown here, with only the cells present here.\n",
    "\n",
    "Don't restrict yourself only to what was taught so far. Some of the tasks might require you to search for new information. [The python docs](https://docs.python.org/3/), [keras docs](https://keras.io/), [stackoverflow](https://stackoverflow.com/), and Google are your friends!"
   ]
  },
  {
   "cell_type": "markdown",
   "metadata": {},
   "source": [
    "## 0. Imports"
   ]
  },
  {
   "cell_type": "markdown",
   "metadata": {},
   "source": [
    "Import any necessary modules here."
   ]
  },
  {
   "cell_type": "code",
   "execution_count": 198,
   "metadata": {},
   "outputs": [],
   "source": [
    "import numpy as np\n",
    "import pandas\n",
    "from matplotlib import pyplot as plt\n",
    "from keras.models import Sequential\n",
    "from keras.layers import Dense\n",
    "from keras.optimizers import RMSprop, Adam\n"
   ]
  },
  {
   "cell_type": "markdown",
   "metadata": {},
   "source": [
    "## 1. Loading and extracting subset"
   ]
  },
  {
   "cell_type": "markdown",
   "metadata": {},
   "source": [
    "Load the `'300k.csv'` file using pandas."
   ]
  },
  {
   "cell_type": "code",
   "execution_count": 109,
   "metadata": {},
   "outputs": [],
   "source": [
    "file_path = \"/home/sanoop/Documents/SSY340 Deep Machine Learning/300k.csv\"\n",
    "raw_data = pandas.read_csv(file_path, low_memory = False)"
   ]
  },
  {
   "cell_type": "markdown",
   "metadata": {},
   "source": [
    "Create a new `DataFrame` with only the columns `latitude`, `longitude`, and `class`."
   ]
  },
  {
   "cell_type": "code",
   "execution_count": 110,
   "metadata": {},
   "outputs": [],
   "source": [
    "data = pandas.DataFrame(raw_data[[\"class\",\"latitude\", \"longitude\"]])"
   ]
  },
  {
   "cell_type": "markdown",
   "metadata": {},
   "source": [
    "Note that the `class` column specifies which pokemon it is. However, it only has the numerical id of the pokemon. For convenience, use the following dictionary to convert between ids and names."
   ]
  },
  {
   "cell_type": "code",
   "execution_count": 111,
   "metadata": {},
   "outputs": [],
   "source": [
    "name_dict={1: 'Bulbasaur', 2: 'Ivysaur', 3: 'Venusaur', 4: 'Charmander', 5: 'Charmeleon', 6: 'Charizard', 7: 'Squirtle', 8: \n",
    "          'Wartortle', 9: 'Blastoise', 10: 'Caterpie', 11: 'Metapod', 12: 'Butterfree', 13: 'Weedle', 14: 'Kakuna', \n",
    "          15: 'Beedrill', 16: 'Pidgey', 17: 'Pidgeotto', 18: 'Pidgeot', 19: 'Rattata', 20: 'Raticate', 21: 'Spearow',\n",
    "          22: 'Fearow', 23: 'Ekans', 24: 'Arbok', 25: 'Pikachu', 26: 'Raichu', 27: 'Sandshrew', 28: 'Sandslash', \n",
    "          29: 'Nidoran F', 30: 'Nidorina', 31: 'Nidoqueen',32: 'Nidoran M', 33: 'Nidorino', 34: 'Nidoking', 35: 'Clefairy',\n",
    "          36: 'Clefable', 37: 'Vulpix', 38: 'Ninetales', 39: 'Jigglypuff', 40: 'Wigglytuff', 41: 'Zubat', 42: 'Golbat', \n",
    "          43: 'Oddish', 44: 'Gloom', 45: 'Vileplume', 46: 'Paras', 47: 'Parasect', 48: 'Venonat', 49: 'Venomoth',\n",
    "          50: 'Diglett', 51: 'Dugtrio', 52: 'Meowth', 53: 'Persian', 54: 'Psyduck',55: 'Golduck', 56: 'Mankey', \n",
    "          57: 'Primeape', 58: 'Growlithe', 59: 'Arcanine', 60: 'Poliwag', 61: 'Poliwhirl', 62: 'Poliwrath',\n",
    "          63: 'Abra', 64: 'Kadabra', 65: 'Alakazam', 66: 'Machop', 67: 'Machoke', 68: 'Machamp', 69: 'Bellsprout', \n",
    "          70: 'Weepinbell', 71: 'Victreebel', 72: 'Tentacool', 73: 'Tentacruel', 74: 'Geodude', 75: 'Graveler',\n",
    "          76: 'Golem', 77: 'Ponyta', 78: 'Rapidash', 79: 'Slowpoke', 80: 'Slowbro', 81: 'Magnemite', 82: 'Magneton',\n",
    "          83: \"Farfetch'd\", 84: 'Doduo', 85: 'Dodrio', 86: 'Seel', 87: 'Dewgong', 88: 'Grimer', 89: 'Muk', \n",
    "          90: 'Shellder', 91: 'Cloyster', 92: 'Gastly', 93: 'Haunter', 94: 'Gengar', 95: 'Onix', 96: 'Drowzee',\n",
    "          97: 'Hypno', 98: 'Krabby', 99: 'Kingler', 100: 'Voltorb', 101: 'Electrode', 102: 'Exeggcute', 103: 'Exeggutor', \n",
    "          104: 'Cubone', 105: 'Marowak', 106: 'Hitmonlee', 107: 'Hitmonchan', 108: 'Lickitung', 109: 'Koffing',\n",
    "          110: 'Weezing', 111: 'Rhyhorn', 112: 'Rhydon', 113: 'Chansey', 114: 'Tangela', 115: 'Kangaskhan', 116: 'Horsea', \n",
    "          117: 'Seadra', 118: 'Goldeen', 119: 'Seaking', 120: 'Staryu', 121: 'Starmie', 122: 'Mr. Mime', 123: 'Scyther', \n",
    "          124: 'Jynx', 125: 'Electabuzz', 126: 'Magmar', 127: 'Pinsir', 128: 'Tauros', 129: 'Magikarp', 130: 'Gyarados', \n",
    "          131: 'Lapras', 132: 'Ditto', 133: 'Eevee', 134: 'Vaporeon', 135: 'Jolteon', 136: 'Flareon', 137: 'Porygon', \n",
    "          138: 'Omanyte', 139: 'Omastar', 140: 'Kabuto', 141: 'Kabutops', 142: 'Aerodactyl', 143: 'Snorlax', 144: 'Articuno',\n",
    "          145: 'Zapdos', 146: 'Moltres', 147: 'Dratini', 148: 'Dragonair', 149: 'Dragonite', 150: 'Mewtwo', 'Bulbasaur': 1, 'Ivysaur': 2, 'Venusaur': 3, 'Charmander': 4, 'Charmeleon': 5, 'Charizard': 6, 'Squirtle': 7, 'Wartortle': 8, 'Blastoise': 9, 'Caterpie': 10, 'Metapod': 11, 'Butterfree': 12, 'Weedle': 13, 'Kakuna': 14, 'Beedrill': 15, 'Pidgey': 16, 'Pidgeotto': 17, 'Pidgeot': 18, 'Rattata': 19, 'Raticate': 20, 'Spearow': 21, 'Fearow': 22, 'Ekans': 23, 'Arbok': 24, 'Pikachu': 25, 'Raichu': 26, 'Sandshrew': 27, 'Sandslash': 28, 'Nidoran F': 29, 'Nidorina': 30, 'Nidoqueen': 31, 'Nidoran M': 32, 'Nidorino': 33, 'Nidoking': 34, 'Clefairy': 35, 'Clefable': 36, 'Vulpix': 37, 'Ninetales': 38, 'Jigglypuff': 39, 'Wigglytuff': 40, 'Zubat': 41, 'Golbat': 42, 'Oddish': 43, 'Gloom': 44, 'Vileplume': 45, 'Paras': 46, 'Parasect': 47, 'Venonat': 48, 'Venomoth': 49, 'Diglett': 50, 'Dugtrio': 51, 'Meowth': 52, 'Persian': 53, 'Psyduck': 54, 'Golduck': 55, 'Mankey': 56, 'Primeape': 57, 'Growlithe': 58, 'Arcanine': 59, 'Poliwag': 60, 'Poliwhirl': 61, 'Poliwrath': 62, 'Abra': 63, 'Kadabra': 64, 'Alakazam': 65, 'Machop': 66, 'Machoke': 67, 'Machamp': 68, 'Bellsprout': 69, 'Weepinbell': 70, 'Victreebel': 71, 'Tentacool': 72, 'Tentacruel': 73, 'Geodude': 74, 'Graveler': 75, 'Golem': 76, 'Ponyta': 77, 'Rapidash': 78, 'Slowpoke': 79, 'Slowbro': 80, 'Magnemite': 81, 'Magneton': 82, 'Farfetch\\'d': 83, 'Doduo': 84, 'Dodrio': 85, 'Seel': 86, 'Dewgong': 87, 'Grimer': 88, 'Muk': 89, 'Shellder': 90, 'Cloyster': 91, 'Gastly': 92, 'Haunter': 93, 'Gengar': 94, 'Onix': 95, 'Drowzee': 96, 'Hypno': 97, 'Krabby': 98, 'Kingler': 99, 'Voltorb': 100, 'Electrode': 101, 'Exeggcute': 102, 'Exeggutor': 103, 'Cubone': 104, 'Marowak': 105, 'Hitmonlee': 106, 'Hitmonchan': 107, 'Lickitung': 108, 'Koffing': 109, 'Weezing': 110, 'Rhyhorn': 111, 'Rhydon': 112, 'Chansey': 113, 'Tangela': 114, 'Kangaskhan': 115, 'Horsea': 116, 'Seadra': 117, 'Goldeen': 118, 'Seaking': 119, 'Staryu': 120, 'Starmie': 121, 'Mr. Mime': 122, 'Scyther': 123, 'Jynx': 124, 'Electabuzz': 125, 'Magmar': 126, 'Pinsir': 127, 'Tauros': 128, 'Magikarp': 129, 'Gyarados': 130, 'Lapras': 131, 'Ditto': 132, 'Eevee': 133, 'Vaporeon': 134, 'Jolteon': 135, 'Flareon': 136, 'Porygon': 137, 'Omanyte': 138, 'Omastar': 139, 'Kabuto': 140, 'Kabutops': 141, 'Aerodactyl': 142, 'Snorlax': 143, 'Articuno': 144, 'Zapdos': 145, 'Moltres': 146, 'Dratini': 147, 'Dragonair': 148, 'Dragonite': 149, 'Mewtwo': 150}"
   ]
  },
  {
   "cell_type": "code",
   "execution_count": 112,
   "metadata": {},
   "outputs": [
    {
     "name": "stdout",
     "output_type": "stream",
     "text": [
      "94\n",
      "Gengar\n"
     ]
    }
   ],
   "source": [
    "# example usage (you can index either by name or id)\n",
    "print(name_dict['Gengar'])\n",
    "print(name_dict[94])"
   ]
  },
  {
   "cell_type": "markdown",
   "metadata": {},
   "source": [
    "We are only interested in three specific pokemon: Diglett, Seel, and Tauros."
   ]
  },
  {
   "cell_type": "markdown",
   "metadata": {},
   "source": [
    "<table style=\"width:100%\">\n",
    "  <tr>\n",
    "    <th> <center>Diglett</center> </th>\n",
    "    <th> <center>Seel</center> </th> \n",
    "    <th> <center>Tauros</center> </th>\n",
    "  </tr>\n",
    "  <tr>\n",
    "    <td>![Diglett](https://assets.pokemon.com/assets/cms2/img/pokedex/full/050_f2.png)</td>\n",
    "    <td>![Seel](https://pokemon.gamepedia.com/media/pokemon.gamepedia.com/thumb/f/f1/Seel.png/200px-Seel.png?version=2c32fbe0af2d0da707e5dbcb40472fbf)</td>\n",
    "    <td>![Tauros](https://vignette2.wikia.nocookie.net/pokemon/images/0/01/128Tauros_AG_anime.png/revision/latest?cb=20140924030616)</td>\n",
    "  </tr>\n",
    "</table>\n",
    "\n"
   ]
  },
  {
   "cell_type": "markdown",
   "metadata": {},
   "source": [
    "Filter the dataset to contain only these pokemon."
   ]
  },
  {
   "cell_type": "code",
   "execution_count": 113,
   "metadata": {},
   "outputs": [],
   "source": [
    "data2 = (data.loc[data[\"class\"].isin([name_dict['Diglett'], name_dict['Seel'],name_dict['Tauros']])]) "
   ]
  },
  {
   "cell_type": "markdown",
   "metadata": {},
   "source": [
    "## 2. Visualization of the dataset"
   ]
  },
  {
   "cell_type": "markdown",
   "metadata": {},
   "source": [
    "Plot histogram of the number of occurrences of each class."
   ]
  },
  {
   "cell_type": "code",
   "execution_count": 322,
   "metadata": {},
   "outputs": [
    {
     "data": {
      "image/png": "[encoded data removed]",
      "text/plain": [
       "<Figure size 432x288 with 1 Axes>"
      ]
     },
     "metadata": {},
     "output_type": "display_data"
    },
    {
     "data": {
      "image/png": "[encoded data removed]",
      "text/plain": [
       "<Figure size 432x288 with 1 Axes>"
      ]
     },
     "metadata": {},
     "output_type": "display_data"
    },
    {
     "data": {
      "image/png": "[encoded data removed]",
      "text/plain": [
       "<Figure size 432x288 with 1 Axes>"
      ]
     },
     "metadata": {},
     "output_type": "display_data"
    }
   ],
   "source": [
    "my_dict1 = {name_dict['Diglett'] : 'o', name_dict['Seel'] : '*',name_dict['Tauros'] : '+'}\n",
    "for pokemon in my_dict1:\n",
    "    data3 =(data.loc[data[\"class\"].isin([pokemon])])\n",
    "    data3[[\"class\"]].plot.hist(label = pokemon)\n",
    "    plt.legend()\n",
    "    plt.grid()\n"
   ]
  },
  {
   "cell_type": "markdown",
   "metadata": {},
   "source": [
    "Is the dataset balanced?\n",
    "\n",
    "**Your answer**: No it is not balanced(fill in here)"
   ]
  },
  {
   "cell_type": "markdown",
   "metadata": {},
   "source": [
    "Plot a scatter plot where the first dimension is latitude, the second is longitude, and each point is a Pokemon. Further, the color of each point should represent which Pokemon it is. Lastly, the marker at each point should be an `'x'`. Make sure to label each axis.\n",
    "\n",
    "Hints:\n",
    "\n",
    "- The `scatter` method from `matplotlib` accepts an argument called `c`.\n",
    "- The `scatter` method also accepts an argument called `marker`."
   ]
  },
  {
   "cell_type": "code",
   "execution_count": 321,
   "metadata": {},
   "outputs": [
    {
     "data": {
      "image/png": "[encoded data removed]",
      "text/plain": [
       "<Figure size 432x288 with 1 Axes>"
      ]
     },
     "metadata": {},
     "output_type": "display_data"
    }
   ],
   "source": [
    "my_dict = {name_dict['Diglett'] : 'o', name_dict['Seel'] : '*',name_dict['Tauros'] : '+'} #dictionary for markers in histogram plot\n",
    "\n",
    "for pokemon in my_dict:\n",
    "    data3 =(data.loc[data[\"class\"].isin([pokemon])])\n",
    "    plt.scatter(data3.latitude, data3.longitude, marker = my_dict[pokemon], label = pokemon)\n",
    "    plt.legend(loc = 'upper right')\n",
    "    plt.grid()"
   ]
  },
  {
   "cell_type": "code",
   "execution_count": null,
   "metadata": {},
   "outputs": [],
   "source": []
  },
  {
   "cell_type": "markdown",
   "metadata": {},
   "source": [
    "Is there any other visualization you think would be useful? If so, insert it here."
   ]
  },
  {
   "cell_type": "code",
   "execution_count": null,
   "metadata": {
    "scrolled": true
   },
   "outputs": [],
   "source": []
  },
  {
   "cell_type": "markdown",
   "metadata": {},
   "source": [
    "How hard do you think the problem is? Which classes can/cannot be easily separated?\n",
    "\n",
    "**Your answer**: The problem is fairly hard since the data is not very balanced. I would be quite difficult to separate 'Diglett' class pokemon as it coincides with 'Seel' and 'Tauros'. It should however be possible to find the right fit for 'Tauros' and a reasonably good fit for 'Seel'. 'Diglett' will suffer from over or under fitting. \n",
    "\n",
    "Which accuracy do you expect to achieve?\n",
    "\n",
    "**Your answer**: Due to the quality of data set available for 'Tauros' we can expect to achieve good accuracy for the same. We can also expect a reasonably good accuracy for 'Seel'. "
   ]
  },
  {
   "cell_type": "markdown",
   "metadata": {},
   "source": [
    "## 3. Preprocessing"
   ]
  },
  {
   "cell_type": "markdown",
   "metadata": {},
   "source": [
    "Prepare input and output vectors."
   ]
  },
  {
   "cell_type": "code",
   "execution_count": 185,
   "metadata": {},
   "outputs": [],
   "source": [
    "X = data2.loc[:,['latitude', 'longitude']]\n",
    "Y = data2.loc[:,['class']]\n",
    "temp = []\n",
    "for item in Y['class']: #one hot encoding of the output data\n",
    "    if item == 50:\n",
    "        temp.append([1,0,0])\n",
    "    elif item == 86:\n",
    "        temp.append([0,1,0])\n",
    "    elif item == 128:\n",
    "        temp.append([0,0,1])\n",
    "\n",
    "Ysoft = pandas.DataFrame(temp) #type casting from list to pandas DataFrame"
   ]
  },
  {
   "cell_type": "markdown",
   "metadata": {},
   "source": [
    "Separate your data into training and test sets. 20% of the data should be in the test set."
   ]
  },
  {
   "cell_type": "code",
   "execution_count": 221,
   "metadata": {},
   "outputs": [],
   "source": [
    "#spliting data into 80% training data, 20% test data\n",
    "trainX, testX = np.split(X, [int(0.8*(len(X)))])\n",
    "trainY, testY = np.split(Ysoft, [int(0.8*(len(X)))])\n",
    "trainX1, validX1 = np.split(trainX, [int(0.75*len(trainX))])\n",
    "trainY1, validY1 = np.split(trainY, [int(0.75*(len(trainY)))])"
   ]
  },
  {
   "cell_type": "markdown",
   "metadata": {},
   "source": [
    "## 4. Training"
   ]
  },
  {
   "cell_type": "markdown",
   "metadata": {},
   "source": [
    "Choose an architecture for your network."
   ]
  },
  {
   "cell_type": "code",
   "execution_count": 274,
   "metadata": {},
   "outputs": [
    {
     "name": "stdout",
     "output_type": "stream",
     "text": [
      "Epoch 1/200\n",
      "1249/1249 [==============================] - 2s 2ms/step - loss: 0.3121 - acc: 0.4652\n",
      "Epoch 2/200\n",
      "1249/1249 [==============================] - 0s 162us/step - loss: 0.2989 - acc: 0.4780\n",
      "Epoch 3/200\n",
      "1249/1249 [==============================] - 0s 163us/step - loss: 0.2775 - acc: 0.4988\n",
      "Epoch 4/200\n",
      "1249/1249 [==============================] - 0s 156us/step - loss: 0.2763 - acc: 0.4812\n",
      "Epoch 5/200\n",
      "1249/1249 [==============================] - 0s 157us/step - loss: 0.2742 - acc: 0.5004\n",
      "Epoch 6/200\n",
      "1249/1249 [==============================] - 0s 166us/step - loss: 0.3294 - acc: 0.4836\n",
      "Epoch 7/200\n",
      "1249/1249 [==============================] - 0s 164us/step - loss: 0.2481 - acc: 0.5276\n",
      "Epoch 8/200\n",
      "1249/1249 [==============================] - 0s 163us/step - loss: 0.1963 - acc: 0.6173\n",
      "Epoch 9/200\n",
      "1249/1249 [==============================] - 0s 159us/step - loss: 0.1937 - acc: 0.6205\n",
      "Epoch 10/200\n",
      "1249/1249 [==============================] - 0s 161us/step - loss: 0.1894 - acc: 0.6589\n",
      "Epoch 11/200\n",
      "1249/1249 [==============================] - 0s 170us/step - loss: 0.2144 - acc: 0.6205\n",
      "Epoch 12/200\n",
      "1249/1249 [==============================] - 0s 166us/step - loss: 0.1965 - acc: 0.6317\n",
      "Epoch 13/200\n",
      "1249/1249 [==============================] - 0s 156us/step - loss: 0.1919 - acc: 0.6189\n",
      "Epoch 14/200\n",
      "1249/1249 [==============================] - 0s 166us/step - loss: 0.1980 - acc: 0.6045\n",
      "Epoch 15/200\n",
      "1249/1249 [==============================] - 0s 161us/step - loss: 0.1864 - acc: 0.6389\n",
      "Epoch 16/200\n",
      "1249/1249 [==============================] - 0s 154us/step - loss: 0.1795 - acc: 0.6221\n",
      "Epoch 17/200\n",
      "1249/1249 [==============================] - 0s 161us/step - loss: 0.1873 - acc: 0.6141\n",
      "Epoch 18/200\n",
      "1249/1249 [==============================] - 0s 164us/step - loss: 0.1767 - acc: 0.6445\n",
      "Epoch 19/200\n",
      "1249/1249 [==============================] - 0s 166us/step - loss: 0.1752 - acc: 0.6437\n",
      "Epoch 20/200\n",
      "1249/1249 [==============================] - 0s 163us/step - loss: 0.1940 - acc: 0.6205\n",
      "Epoch 21/200\n",
      "1249/1249 [==============================] - 0s 160us/step - loss: 0.1889 - acc: 0.6301\n",
      "Epoch 22/200\n",
      "1249/1249 [==============================] - 0s 160us/step - loss: 0.1904 - acc: 0.6245\n",
      "Epoch 23/200\n",
      "1249/1249 [==============================] - 0s 164us/step - loss: 0.1814 - acc: 0.6349\n",
      "Epoch 24/200\n",
      "1249/1249 [==============================] - 0s 160us/step - loss: 0.1909 - acc: 0.6133\n",
      "Epoch 25/200\n",
      "1249/1249 [==============================] - 0s 167us/step - loss: 0.1994 - acc: 0.6181\n",
      "Epoch 26/200\n",
      "1249/1249 [==============================] - 0s 161us/step - loss: 0.1748 - acc: 0.6341\n",
      "Epoch 27/200\n",
      "1249/1249 [==============================] - 0s 158us/step - loss: 0.1769 - acc: 0.6341\n",
      "Epoch 28/200\n",
      "1249/1249 [==============================] - 0s 176us/step - loss: 0.1775 - acc: 0.6373\n",
      "Epoch 29/200\n",
      "1249/1249 [==============================] - 0s 164us/step - loss: 0.1683 - acc: 0.6341\n",
      "Epoch 30/200\n",
      "1249/1249 [==============================] - 0s 158us/step - loss: 0.1757 - acc: 0.6333\n",
      "Epoch 31/200\n",
      "1249/1249 [==============================] - 0s 202us/step - loss: 0.1771 - acc: 0.6085\n",
      "Epoch 32/200\n",
      "1249/1249 [==============================] - 0s 180us/step - loss: 0.1797 - acc: 0.6253\n",
      "Epoch 33/200\n",
      "1249/1249 [==============================] - 0s 172us/step - loss: 0.1794 - acc: 0.6261\n",
      "Epoch 34/200\n",
      "1249/1249 [==============================] - 0s 178us/step - loss: 0.1843 - acc: 0.6253\n",
      "Epoch 35/200\n",
      "1249/1249 [==============================] - 0s 189us/step - loss: 0.1838 - acc: 0.6021\n",
      "Epoch 36/200\n",
      "1249/1249 [==============================] - 0s 263us/step - loss: 0.1817 - acc: 0.6269\n",
      "Epoch 37/200\n",
      "1249/1249 [==============================] - 0s 211us/step - loss: 0.1783 - acc: 0.6237\n",
      "Epoch 38/200\n",
      "1249/1249 [==============================] - 0s 218us/step - loss: 0.1668 - acc: 0.6373\n",
      "Epoch 39/200\n",
      "1249/1249 [==============================] - 0s 240us/step - loss: 0.1790 - acc: 0.6341\n",
      "Epoch 40/200\n",
      "1249/1249 [==============================] - 0s 203us/step - loss: 0.1740 - acc: 0.6421\n",
      "Epoch 41/200\n",
      "1249/1249 [==============================] - 0s 206us/step - loss: 0.1773 - acc: 0.6229\n",
      "Epoch 42/200\n",
      "1249/1249 [==============================] - 0s 211us/step - loss: 0.1692 - acc: 0.6341\n",
      "Epoch 43/200\n",
      "1249/1249 [==============================] - 0s 211us/step - loss: 0.1683 - acc: 0.6413\n",
      "Epoch 44/200\n",
      "1249/1249 [==============================] - 0s 190us/step - loss: 0.1620 - acc: 0.6397\n",
      "Epoch 45/200\n",
      "1249/1249 [==============================] - 0s 164us/step - loss: 0.1667 - acc: 0.6493\n",
      "Epoch 46/200\n",
      "1249/1249 [==============================] - 0s 171us/step - loss: 0.1673 - acc: 0.6453\n",
      "Epoch 47/200\n",
      "1249/1249 [==============================] - 0s 175us/step - loss: 0.1580 - acc: 0.6373\n",
      "Epoch 48/200\n",
      "1249/1249 [==============================] - 0s 204us/step - loss: 0.1673 - acc: 0.6389\n",
      "Epoch 49/200\n",
      "1249/1249 [==============================] - 0s 195us/step - loss: 0.1691 - acc: 0.6285\n",
      "Epoch 50/200\n",
      "1249/1249 [==============================] - 0s 179us/step - loss: 0.1626 - acc: 0.6429\n",
      "Epoch 51/200\n",
      "1249/1249 [==============================] - 0s 219us/step - loss: 0.1641 - acc: 0.6301\n",
      "Epoch 52/200\n",
      "1249/1249 [==============================] - 0s 169us/step - loss: 0.1578 - acc: 0.6381\n",
      "Epoch 53/200\n",
      "1249/1249 [==============================] - 0s 193us/step - loss: 0.1599 - acc: 0.6453\n",
      "Epoch 54/200\n",
      "1249/1249 [==============================] - 0s 225us/step - loss: 0.1574 - acc: 0.6477\n",
      "Epoch 55/200\n",
      "1249/1249 [==============================] - 0s 172us/step - loss: 0.1619 - acc: 0.6429\n",
      "Epoch 56/200\n",
      "1249/1249 [==============================] - 0s 152us/step - loss: 0.1634 - acc: 0.6549\n",
      "Epoch 57/200\n",
      "1249/1249 [==============================] - 0s 164us/step - loss: 0.1628 - acc: 0.6445\n",
      "Epoch 58/200\n",
      "1249/1249 [==============================] - 0s 203us/step - loss: 0.1597 - acc: 0.6453\n",
      "Epoch 59/200\n",
      "1249/1249 [==============================] - 0s 213us/step - loss: 0.1589 - acc: 0.6493\n",
      "Epoch 60/200\n",
      "1249/1249 [==============================] - 0s 157us/step - loss: 0.1624 - acc: 0.6461\n",
      "Epoch 61/200\n",
      "1249/1249 [==============================] - 0s 152us/step - loss: 0.1609 - acc: 0.6365\n",
      "Epoch 62/200\n",
      "1249/1249 [==============================] - 0s 188us/step - loss: 0.1611 - acc: 0.6541\n",
      "Epoch 63/200\n",
      "1249/1249 [==============================] - 0s 191us/step - loss: 0.1594 - acc: 0.6565\n",
      "Epoch 64/200\n",
      "1249/1249 [==============================] - 0s 172us/step - loss: 0.1599 - acc: 0.6557\n",
      "Epoch 65/200\n",
      "1249/1249 [==============================] - 0s 167us/step - loss: 0.1599 - acc: 0.6557\n",
      "Epoch 66/200\n",
      "1249/1249 [==============================] - 0s 190us/step - loss: 0.1644 - acc: 0.6381\n",
      "Epoch 67/200\n",
      "1249/1249 [==============================] - 0s 161us/step - loss: 0.1592 - acc: 0.6525\n",
      "Epoch 68/200\n",
      "1249/1249 [==============================] - 0s 174us/step - loss: 0.1568 - acc: 0.6565\n",
      "Epoch 69/200\n",
      "1249/1249 [==============================] - 0s 175us/step - loss: 0.1587 - acc: 0.6573\n",
      "Epoch 70/200\n",
      "1249/1249 [==============================] - 0s 170us/step - loss: 0.1550 - acc: 0.6637\n",
      "Epoch 71/200\n",
      "1249/1249 [==============================] - 0s 216us/step - loss: 0.1571 - acc: 0.6509\n",
      "Epoch 72/200\n",
      "1249/1249 [==============================] - 0s 199us/step - loss: 0.1630 - acc: 0.6565\n",
      "Epoch 73/200\n",
      "1249/1249 [==============================] - 0s 165us/step - loss: 0.1592 - acc: 0.6517\n",
      "Epoch 74/200\n",
      "1249/1249 [==============================] - 0s 177us/step - loss: 0.1571 - acc: 0.6565\n",
      "Epoch 75/200\n",
      "1249/1249 [==============================] - 0s 170us/step - loss: 0.1596 - acc: 0.6445\n",
      "Epoch 76/200\n",
      "1249/1249 [==============================] - 0s 156us/step - loss: 0.1582 - acc: 0.6477\n",
      "Epoch 77/200\n",
      "1249/1249 [==============================] - 0s 201us/step - loss: 0.1548 - acc: 0.6661\n",
      "Epoch 78/200\n",
      "1249/1249 [==============================] - 0s 173us/step - loss: 0.1587 - acc: 0.6613\n",
      "Epoch 79/200\n",
      "1249/1249 [==============================] - 0s 174us/step - loss: 0.1602 - acc: 0.6613\n",
      "Epoch 80/200\n",
      "1249/1249 [==============================] - 0s 211us/step - loss: 0.1560 - acc: 0.6501\n",
      "Epoch 81/200\n",
      "1249/1249 [==============================] - 0s 194us/step - loss: 0.1648 - acc: 0.6413\n",
      "Epoch 82/200\n"
     ]
    },
    {
     "name": "stdout",
     "output_type": "stream",
     "text": [
      "1249/1249 [==============================] - 0s 158us/step - loss: 0.1525 - acc: 0.6677\n",
      "Epoch 83/200\n",
      "1249/1249 [==============================] - 0s 154us/step - loss: 0.1536 - acc: 0.6565\n",
      "Epoch 84/200\n",
      "1249/1249 [==============================] - 0s 156us/step - loss: 0.1538 - acc: 0.6557\n",
      "Epoch 85/200\n",
      "1249/1249 [==============================] - 0s 146us/step - loss: 0.1543 - acc: 0.6685\n",
      "Epoch 86/200\n",
      "1249/1249 [==============================] - 0s 154us/step - loss: 0.1598 - acc: 0.6461\n",
      "Epoch 87/200\n",
      "1249/1249 [==============================] - 0s 146us/step - loss: 0.1564 - acc: 0.6541\n",
      "Epoch 88/200\n",
      "1249/1249 [==============================] - 0s 145us/step - loss: 0.1547 - acc: 0.6581\n",
      "Epoch 89/200\n",
      "1249/1249 [==============================] - 0s 152us/step - loss: 0.1538 - acc: 0.6629\n",
      "Epoch 90/200\n",
      "1249/1249 [==============================] - 0s 152us/step - loss: 0.1529 - acc: 0.6597\n",
      "Epoch 91/200\n",
      "1249/1249 [==============================] - 0s 152us/step - loss: 0.1536 - acc: 0.6613\n",
      "Epoch 92/200\n",
      "1249/1249 [==============================] - 0s 148us/step - loss: 0.1529 - acc: 0.6605\n",
      "Epoch 93/200\n",
      "1249/1249 [==============================] - 0s 167us/step - loss: 0.1541 - acc: 0.6517\n",
      "Epoch 94/200\n",
      "1249/1249 [==============================] - 0s 197us/step - loss: 0.1570 - acc: 0.6533\n",
      "Epoch 95/200\n",
      "1249/1249 [==============================] - 0s 200us/step - loss: 0.1567 - acc: 0.6581\n",
      "Epoch 96/200\n",
      "1249/1249 [==============================] - 0s 189us/step - loss: 0.1546 - acc: 0.6541\n",
      "Epoch 97/200\n",
      "1249/1249 [==============================] - 0s 193us/step - loss: 0.1535 - acc: 0.6597\n",
      "Epoch 98/200\n",
      "1249/1249 [==============================] - 0s 164us/step - loss: 0.1525 - acc: 0.6557\n",
      "Epoch 99/200\n",
      "1249/1249 [==============================] - 0s 160us/step - loss: 0.1527 - acc: 0.6565\n",
      "Epoch 100/200\n",
      "1249/1249 [==============================] - 0s 159us/step - loss: 0.1551 - acc: 0.6541\n",
      "Epoch 101/200\n",
      "1249/1249 [==============================] - 0s 167us/step - loss: 0.1524 - acc: 0.6509\n",
      "Epoch 102/200\n",
      "1249/1249 [==============================] - 0s 160us/step - loss: 0.1536 - acc: 0.6541\n",
      "Epoch 103/200\n",
      "1249/1249 [==============================] - 0s 166us/step - loss: 0.1521 - acc: 0.6573\n",
      "Epoch 104/200\n",
      "1249/1249 [==============================] - 0s 162us/step - loss: 0.1524 - acc: 0.6597\n",
      "Epoch 105/200\n",
      "1249/1249 [==============================] - 0s 164us/step - loss: 0.1522 - acc: 0.6573\n",
      "Epoch 106/200\n",
      "1249/1249 [==============================] - 0s 172us/step - loss: 0.1534 - acc: 0.6661\n",
      "Epoch 107/200\n",
      "1249/1249 [==============================] - 0s 163us/step - loss: 0.1509 - acc: 0.6709\n",
      "Epoch 108/200\n",
      "1249/1249 [==============================] - 0s 162us/step - loss: 0.1533 - acc: 0.6533\n",
      "Epoch 109/200\n",
      "1249/1249 [==============================] - 0s 169us/step - loss: 0.1521 - acc: 0.6533\n",
      "Epoch 110/200\n",
      "1249/1249 [==============================] - 0s 166us/step - loss: 0.1506 - acc: 0.6573\n",
      "Epoch 111/200\n",
      "1249/1249 [==============================] - 0s 167us/step - loss: 0.1517 - acc: 0.6717\n",
      "Epoch 112/200\n",
      "1249/1249 [==============================] - 0s 162us/step - loss: 0.1513 - acc: 0.6685\n",
      "Epoch 113/200\n",
      "1249/1249 [==============================] - 0s 165us/step - loss: 0.1511 - acc: 0.6613\n",
      "Epoch 114/200\n",
      "1249/1249 [==============================] - 0s 167us/step - loss: 0.1552 - acc: 0.6629\n",
      "Epoch 115/200\n",
      "1249/1249 [==============================] - 0s 164us/step - loss: 0.1527 - acc: 0.6461\n",
      "Epoch 116/200\n",
      "1249/1249 [==============================] - 0s 166us/step - loss: 0.1528 - acc: 0.6549\n",
      "Epoch 117/200\n",
      "1249/1249 [==============================] - 0s 173us/step - loss: 0.1529 - acc: 0.6573\n",
      "Epoch 118/200\n",
      "1249/1249 [==============================] - 0s 167us/step - loss: 0.1501 - acc: 0.6717\n",
      "Epoch 119/200\n",
      "1249/1249 [==============================] - 0s 164us/step - loss: 0.1523 - acc: 0.6469\n",
      "Epoch 120/200\n",
      "1249/1249 [==============================] - 0s 167us/step - loss: 0.1499 - acc: 0.6517\n",
      "Epoch 121/200\n",
      "1249/1249 [==============================] - 0s 177us/step - loss: 0.1508 - acc: 0.6461\n",
      "Epoch 122/200\n",
      "1249/1249 [==============================] - 0s 166us/step - loss: 0.1504 - acc: 0.6661\n",
      "Epoch 123/200\n",
      "1249/1249 [==============================] - 0s 172us/step - loss: 0.1515 - acc: 0.6637\n",
      "Epoch 124/200\n",
      "1249/1249 [==============================] - 0s 163us/step - loss: 0.1527 - acc: 0.6557\n",
      "Epoch 125/200\n",
      "1249/1249 [==============================] - 0s 169us/step - loss: 0.1508 - acc: 0.6541\n",
      "Epoch 126/200\n",
      "1249/1249 [==============================] - 0s 165us/step - loss: 0.1525 - acc: 0.6621\n",
      "Epoch 127/200\n",
      "1249/1249 [==============================] - 0s 164us/step - loss: 0.1491 - acc: 0.6629\n",
      "Epoch 128/200\n",
      "1249/1249 [==============================] - 0s 176us/step - loss: 0.1515 - acc: 0.6685\n",
      "Epoch 129/200\n",
      "1249/1249 [==============================] - 0s 164us/step - loss: 0.1518 - acc: 0.6605\n",
      "Epoch 130/200\n",
      "1249/1249 [==============================] - 0s 173us/step - loss: 0.1513 - acc: 0.6501\n",
      "Epoch 131/200\n",
      "1249/1249 [==============================] - 0s 167us/step - loss: 0.1517 - acc: 0.6445\n",
      "Epoch 132/200\n",
      "1249/1249 [==============================] - 0s 155us/step - loss: 0.1513 - acc: 0.6653\n",
      "Epoch 133/200\n",
      "1249/1249 [==============================] - 0s 168us/step - loss: 0.1542 - acc: 0.6557\n",
      "Epoch 134/200\n",
      "1249/1249 [==============================] - 0s 168us/step - loss: 0.1513 - acc: 0.6421\n",
      "Epoch 135/200\n",
      "1249/1249 [==============================] - 0s 170us/step - loss: 0.1517 - acc: 0.6533\n",
      "Epoch 136/200\n",
      "1249/1249 [==============================] - 0s 177us/step - loss: 0.1516 - acc: 0.6565\n",
      "Epoch 137/200\n",
      "1249/1249 [==============================] - 0s 174us/step - loss: 0.1513 - acc: 0.6541\n",
      "Epoch 138/200\n",
      "1249/1249 [==============================] - 0s 175us/step - loss: 0.1514 - acc: 0.6501\n",
      "Epoch 139/200\n",
      "1249/1249 [==============================] - 0s 183us/step - loss: 0.1503 - acc: 0.6573\n",
      "Epoch 140/200\n",
      "1249/1249 [==============================] - 0s 164us/step - loss: 0.1515 - acc: 0.6645\n",
      "Epoch 141/200\n",
      "1249/1249 [==============================] - 0s 164us/step - loss: 0.1521 - acc: 0.6541\n",
      "Epoch 142/200\n",
      "1249/1249 [==============================] - 0s 163us/step - loss: 0.1510 - acc: 0.6621\n",
      "Epoch 143/200\n",
      "1249/1249 [==============================] - 0s 164us/step - loss: 0.1511 - acc: 0.6501\n",
      "Epoch 144/200\n",
      "1249/1249 [==============================] - 0s 163us/step - loss: 0.1512 - acc: 0.6605\n",
      "Epoch 145/200\n",
      "1249/1249 [==============================] - 0s 162us/step - loss: 0.1500 - acc: 0.6461\n",
      "Epoch 146/200\n",
      "1249/1249 [==============================] - 0s 168us/step - loss: 0.1528 - acc: 0.6525\n",
      "Epoch 147/200\n",
      "1249/1249 [==============================] - 0s 177us/step - loss: 0.1520 - acc: 0.6717\n",
      "Epoch 148/200\n",
      "1249/1249 [==============================] - 0s 166us/step - loss: 0.1517 - acc: 0.6597\n",
      "Epoch 149/200\n",
      "1249/1249 [==============================] - 0s 174us/step - loss: 0.1497 - acc: 0.6653\n",
      "Epoch 150/200\n",
      "1249/1249 [==============================] - 0s 174us/step - loss: 0.1515 - acc: 0.6613\n",
      "Epoch 151/200\n",
      "1249/1249 [==============================] - 0s 170us/step - loss: 0.1519 - acc: 0.6549\n",
      "Epoch 152/200\n",
      "1249/1249 [==============================] - 0s 176us/step - loss: 0.1509 - acc: 0.6509\n",
      "Epoch 153/200\n",
      "1249/1249 [==============================] - 0s 182us/step - loss: 0.1512 - acc: 0.6565\n",
      "Epoch 154/200\n",
      "1249/1249 [==============================] - 0s 170us/step - loss: 0.1502 - acc: 0.6701\n",
      "Epoch 155/200\n",
      "1249/1249 [==============================] - 0s 179us/step - loss: 0.1525 - acc: 0.6565\n",
      "Epoch 156/200\n",
      "1249/1249 [==============================] - 0s 166us/step - loss: 0.1496 - acc: 0.6629\n",
      "Epoch 157/200\n",
      "1249/1249 [==============================] - 0s 167us/step - loss: 0.1513 - acc: 0.6645\n",
      "Epoch 158/200\n",
      "1249/1249 [==============================] - 0s 164us/step - loss: 0.1508 - acc: 0.6485\n",
      "Epoch 159/200\n",
      "1249/1249 [==============================] - 0s 161us/step - loss: 0.1513 - acc: 0.6661\n",
      "Epoch 160/200\n",
      "1249/1249 [==============================] - 0s 167us/step - loss: 0.1496 - acc: 0.6581\n",
      "Epoch 161/200\n",
      "1249/1249 [==============================] - 0s 183us/step - loss: 0.1516 - acc: 0.6629\n",
      "Epoch 162/200\n"
     ]
    },
    {
     "name": "stdout",
     "output_type": "stream",
     "text": [
      "1249/1249 [==============================] - 0s 164us/step - loss: 0.1493 - acc: 0.6565\n",
      "Epoch 163/200\n",
      "1249/1249 [==============================] - 0s 154us/step - loss: 0.1504 - acc: 0.6597\n",
      "Epoch 164/200\n",
      "1249/1249 [==============================] - 0s 146us/step - loss: 0.1495 - acc: 0.6629\n",
      "Epoch 165/200\n",
      "1249/1249 [==============================] - 0s 150us/step - loss: 0.1513 - acc: 0.6597\n",
      "Epoch 166/200\n",
      "1249/1249 [==============================] - 0s 155us/step - loss: 0.1505 - acc: 0.6589\n",
      "Epoch 167/200\n",
      "1249/1249 [==============================] - 0s 149us/step - loss: 0.1510 - acc: 0.6621\n",
      "Epoch 168/200\n",
      "1249/1249 [==============================] - 0s 155us/step - loss: 0.1506 - acc: 0.6693\n",
      "Epoch 169/200\n",
      "1249/1249 [==============================] - 0s 149us/step - loss: 0.1511 - acc: 0.6701\n",
      "Epoch 170/200\n",
      "1249/1249 [==============================] - 0s 151us/step - loss: 0.1495 - acc: 0.6677\n",
      "Epoch 171/200\n",
      "1249/1249 [==============================] - 0s 154us/step - loss: 0.1499 - acc: 0.6573\n",
      "Epoch 172/200\n",
      "1249/1249 [==============================] - 0s 152us/step - loss: 0.1512 - acc: 0.6613\n",
      "Epoch 173/200\n",
      "1249/1249 [==============================] - 0s 145us/step - loss: 0.1502 - acc: 0.6589\n",
      "Epoch 174/200\n",
      "1249/1249 [==============================] - 0s 148us/step - loss: 0.1497 - acc: 0.6677\n",
      "Epoch 175/200\n",
      "1249/1249 [==============================] - 0s 148us/step - loss: 0.1491 - acc: 0.6621\n",
      "Epoch 176/200\n",
      "1249/1249 [==============================] - 0s 148us/step - loss: 0.1496 - acc: 0.6605\n",
      "Epoch 177/200\n",
      "1249/1249 [==============================] - 0s 155us/step - loss: 0.1510 - acc: 0.6621\n",
      "Epoch 178/200\n",
      "1249/1249 [==============================] - 0s 145us/step - loss: 0.1504 - acc: 0.6613\n",
      "Epoch 179/200\n",
      "1249/1249 [==============================] - 0s 153us/step - loss: 0.1491 - acc: 0.6565\n",
      "Epoch 180/200\n",
      "1249/1249 [==============================] - 0s 150us/step - loss: 0.1508 - acc: 0.6685\n",
      "Epoch 181/200\n",
      "1249/1249 [==============================] - 0s 148us/step - loss: 0.1498 - acc: 0.6685\n",
      "Epoch 182/200\n",
      "1249/1249 [==============================] - 0s 149us/step - loss: 0.1498 - acc: 0.6581\n",
      "Epoch 183/200\n",
      "1249/1249 [==============================] - 0s 143us/step - loss: 0.1493 - acc: 0.6725\n",
      "Epoch 184/200\n",
      "1249/1249 [==============================] - 0s 148us/step - loss: 0.1498 - acc: 0.6677\n",
      "Epoch 185/200\n",
      "1249/1249 [==============================] - 0s 146us/step - loss: 0.1493 - acc: 0.6653\n",
      "Epoch 186/200\n",
      "1249/1249 [==============================] - 0s 150us/step - loss: 0.1512 - acc: 0.6645\n",
      "Epoch 187/200\n",
      "1249/1249 [==============================] - 0s 146us/step - loss: 0.1496 - acc: 0.6573\n",
      "Epoch 188/200\n",
      "1249/1249 [==============================] - 0s 146us/step - loss: 0.1495 - acc: 0.6685\n",
      "Epoch 189/200\n",
      "1249/1249 [==============================] - 0s 147us/step - loss: 0.1498 - acc: 0.6677\n",
      "Epoch 190/200\n",
      "1249/1249 [==============================] - 0s 149us/step - loss: 0.1487 - acc: 0.6709\n",
      "Epoch 191/200\n",
      "1249/1249 [==============================] - 0s 156us/step - loss: 0.1503 - acc: 0.6709\n",
      "Epoch 192/200\n",
      "1249/1249 [==============================] - 0s 145us/step - loss: 0.1512 - acc: 0.6653\n",
      "Epoch 193/200\n",
      "1249/1249 [==============================] - 0s 151us/step - loss: 0.1501 - acc: 0.6749\n",
      "Epoch 194/200\n",
      "1249/1249 [==============================] - 0s 156us/step - loss: 0.1507 - acc: 0.6525\n",
      "Epoch 195/200\n",
      "1249/1249 [==============================] - 0s 151us/step - loss: 0.1497 - acc: 0.6669\n",
      "Epoch 196/200\n",
      "1249/1249 [==============================] - 0s 145us/step - loss: 0.1505 - acc: 0.6517\n",
      "Epoch 197/200\n",
      "1249/1249 [==============================] - 0s 154us/step - loss: 0.1496 - acc: 0.6573\n",
      "Epoch 198/200\n",
      "1249/1249 [==============================] - 0s 142us/step - loss: 0.1498 - acc: 0.6709\n",
      "Epoch 199/200\n",
      "1249/1249 [==============================] - 0s 154us/step - loss: 0.1490 - acc: 0.6533\n",
      "Epoch 200/200\n",
      "1249/1249 [==============================] - 0s 149us/step - loss: 0.1491 - acc: 0.6501\n"
     ]
    },
    {
     "data": {
      "text/plain": [
       "<keras.callbacks.History at 0x7fd6655a05f8>"
      ]
     },
     "execution_count": 274,
     "metadata": {},
     "output_type": "execute_result"
    }
   ],
   "source": [
    "model = Sequential()\n",
    "\n",
    "model.add(Dense(units = 99, activation = 'relu', input_dim = 2))\n",
    "model.add(Dense(units = 25, activation = 'relu'))\n",
    "model.add(Dense(units = 3, activation = 'softmax'))\n",
    "\n",
    "model.compile(loss= 'mean_squared_error', \n",
    "              optimizer=Adam(lr = 0.001),\n",
    "              metrics=['accuracy'])\n",
    "model.fit(trainX1, trainY1, epochs=200, batch_size = 20)"
   ]
  },
  {
   "cell_type": "markdown",
   "metadata": {},
   "source": [
    "Train the network. When training, separate 25% of your training data into a validation set."
   ]
  },
  {
   "cell_type": "code",
   "execution_count": 275,
   "metadata": {},
   "outputs": [
    {
     "name": "stdout",
     "output_type": "stream",
     "text": [
      "417/417 [==============================] - 1s 2ms/step\n",
      "[0.15839828225634367, 0.6498800934218675]\n"
     ]
    }
   ],
   "source": [
    "loss_and_metrics = model.evaluate(validX1, validY1, batch_size=20) #runs model with validation data\n",
    "print(loss_and_metrics)"
   ]
  },
  {
   "cell_type": "markdown",
   "metadata": {},
   "source": [
    "For you to pass this assignment, you must obtain an accuracy on the validation set greater than 50%. It may be necessary to search for a good architecture by trying several different ones. If you want a challenge, try getting an accuracy greater than 63%."
   ]
  },
  {
   "cell_type": "markdown",
   "metadata": {},
   "source": [
    "## 5. Evaluation"
   ]
  },
  {
   "cell_type": "markdown",
   "metadata": {},
   "source": [
    "Once you achieved at least 50% accuracy in the validation set, we are done with training. Now we'll evaluate the performance of your classifier on the test set."
   ]
  },
  {
   "cell_type": "markdown",
   "metadata": {},
   "source": [
    "Compute the accuracy on the test set."
   ]
  },
  {
   "cell_type": "code",
   "execution_count": 276,
   "metadata": {
    "scrolled": true
   },
   "outputs": [
    {
     "name": "stdout",
     "output_type": "stream",
     "text": [
      "Accuracy: 0.62\n"
     ]
    }
   ],
   "source": [
    "from sklearn.metrics import accuracy_score, =confusion_matrix\n",
    "\n",
    "yhat = model.predict(testX, batch_size = 20)  #Runs predictions based on test values\n",
    "\n",
    "matY = testY.values\n",
    "y1 = np.argmax(matY, axis=1)\n",
    "yhat1 = np.argmax(yhat, axis=1)\n",
    "\n",
    "acc = accuracy_score(y1, yhat1)\n",
    "print(\"Accuracy: %.2f\" % acc)"
   ]
  },
  {
   "cell_type": "markdown",
   "metadata": {},
   "source": [
    "Compute the confusion matrix of your predictions on the test set."
   ]
  },
  {
   "cell_type": "code",
   "execution_count": 277,
   "metadata": {},
   "outputs": [
    {
     "data": {
      "text/plain": [
       "array([[ 67,  28,  48],\n",
       "       [ 20,  93,  41],\n",
       "       [ 20,   0, 100]])"
      ]
     },
     "execution_count": 277,
     "metadata": {},
     "output_type": "execute_result"
    }
   ],
   "source": [
    "confusion_matrix(y1, yhat1)"
   ]
  },
  {
   "cell_type": "markdown",
   "metadata": {},
   "source": [
    "## 6. Exploration"
   ]
  },
  {
   "cell_type": "markdown",
   "metadata": {},
   "source": [
    "You have now trained and evaluated a neural network for this particular classification task. Can you provide a brief explanation as to how you could use it to decide where to travel, if you're interested in capturing the aforementioned Pokemons?\n",
    "\n",
    "**Answer**: With the confusion matrix, we can see that the classification of 'Tuaros' is really good and the classification of 'Seel' is quite good. Hence a good place to start the travel would be to pick a location for 'Tauros' and 'Seel' which does not coincide with each other or with 'Diglett' "
   ]
  },
  {
   "cell_type": "markdown",
   "metadata": {},
   "source": [
    "Is(are) there any other feature(s) from the original dataset (e.g. hour of the day, pressure, wind speed, population density, etc.) which you think would be valuable to add as an input feature to your classifier to improve its performance? \n",
    "\n",
    "**Your answer**: Looking at the histogram (below) a reasonable choice for features could be 'terrainType' and 'gymDistanceKm' as it provides a a separator between 'Diglett' and the other classes. "
   ]
  },
  {
   "cell_type": "markdown",
   "metadata": {},
   "source": [
    "To investigate your hypothesis, plot a histogram of the selected feature(s) for each one of the pokemons we're interested in. For example, if you think pressure and population density are valuable for prediction, plot 6 histograms. 3 of them will be the pressure histograms for each class ('Diglett', 'Seel' and 'Tauros'), and the other 3 will be the population density for each class."
   ]
  },
  {
   "cell_type": "code",
   "execution_count": 372,
   "metadata": {},
   "outputs": [
    {
     "data": {
      "text/plain": [
       "<matplotlib.legend.Legend at 0x7fd6485b7be0>"
      ]
     },
     "execution_count": 372,
     "metadata": {},
     "output_type": "execute_result"
    },
    {
     "data": {
      "image/png": "[encoded data removed]",
      "text/plain": [
       "<Figure size 432x288 with 1 Axes>"
      ]
     },
     "metadata": {},
     "output_type": "display_data"
    },
    {
     "data": {
      "image/png": "[encoded data removed]",
      "text/plain": [
       "<Figure size 432x288 with 1 Axes>"
      ]
     },
     "metadata": {},
     "output_type": "display_data"
    }
   ],
   "source": [
    "new_data = pandas.DataFrame(raw_data[[\"class\",\"latitude\", \"longitude\", \"terrainType\", \"gymDistanceKm\"]])\n",
    "new_data1 = (new_data.loc[data[\"class\"].isin([name_dict['Diglett']])])\n",
    "new_data2 = (new_data.loc[data[\"class\"].isin([name_dict['Seel']])])\n",
    "new_data3 = (new_data.loc[data[\"class\"].isin([name_dict['Tauros']])])\n",
    "\n",
    "plt.figure(0) #histogram of the three classes by terrain type\n",
    "n, b, y = plt.hist(x = new_data1[\"terrainType\"], bins = 'auto', alpha=0.7, rwidth=0.85, color='#0504aa', label = 'Diglett')\n",
    "n, b, y = plt.hist(x = new_data2[\"terrainType\"], bins = 'auto', alpha=0.7, rwidth=0.85, color='#050000', label = 'Seel')\n",
    "n, b, y = plt.hist(x = new_data3[\"terrainType\"], bins = 'auto', alpha=0.7, rwidth=0.85, color='#FF2D00', label = 'Tauros')\n",
    "\n",
    "\n",
    "plt.grid()\n",
    "plt.xlabel('terrainType')\n",
    "plt.ylabel('number of data points')\n",
    "plt.legend(loc = 'upper right')\n",
    "\n",
    "plt.figure(1) #histogram of the three classes by distance to gym\n",
    "m, c, z = plt.hist(x = new_data1[\"gymDistanceKm\"], bins = 'auto', alpha = 0.7, rwidth = 0.85, label = 'Diglett', color = '#000000')\n",
    "m, c, z = plt.hist(x = new_data2[\"gymDistanceKm\"], bins = 'auto', alpha = 0.7, rwidth = 0.85, label = 'Seel', color = '#F7FF00')\n",
    "m, c, z = plt.hist(x = new_data3[\"gymDistanceKm\"], bins = 'auto', alpha = 0.7, rwidth = 0.85, label = 'Tauros')\n",
    "plt.xlabel('distance to pokemon gym in kms')\n",
    "plt.ylabel('number of data points')\n",
    "plt.legend(loc = 'upper right')\n",
    "\n"
   ]
  },
  {
   "cell_type": "markdown",
   "metadata": {},
   "source": [
    "What does(do) this(ese) histogram(s) show you? Could it be beneficial to add this(ese) new feature(s) as input? Explain why/why not.\n",
    "\n",
    "**Your answer**: The biggest difficulty in the previous features selected was the difficulty in classifying 'Diglett'. The new parameters help sepearate 'Diglett' from the other two classes of Pokemons. "
   ]
  },
  {
   "cell_type": "markdown",
   "metadata": {},
   "source": [
    "## 7. (optional)"
   ]
  },
  {
   "cell_type": "markdown",
   "metadata": {},
   "source": [
    "Assuming you found useful new features in the last part of this assignment, train a new classifier that uses these featues as well. Did the accuracy on the validation set improve? What's the highest accuracy you can achieve?"
   ]
  },
  {
   "cell_type": "code",
   "execution_count": 380,
   "metadata": {},
   "outputs": [
    {
     "name": "stdout",
     "output_type": "stream",
     "text": [
      "(1249, 3) (1249, 3) (417, 3) (417, 3)\n",
      "Epoch 1/200\n",
      "1249/1249 [==============================] - 3s 2ms/step - loss: 0.2767 - acc: 0.4860\n",
      "Epoch 2/200\n",
      "1249/1249 [==============================] - 0s 183us/step - loss: 0.2138 - acc: 0.5917\n",
      "Epoch 3/200\n",
      "1249/1249 [==============================] - 0s 223us/step - loss: 0.2427 - acc: 0.5805\n",
      "Epoch 4/200\n",
      "1249/1249 [==============================] - 0s 184us/step - loss: 0.1919 - acc: 0.6341\n",
      "Epoch 5/200\n",
      "1249/1249 [==============================] - 0s 186us/step - loss: 0.1889 - acc: 0.6453\n",
      "Epoch 6/200\n",
      "1249/1249 [==============================] - 0s 184us/step - loss: 0.1793 - acc: 0.6405\n",
      "Epoch 7/200\n",
      "1249/1249 [==============================] - 0s 205us/step - loss: 0.1798 - acc: 0.6181\n",
      "Epoch 8/200\n",
      "1249/1249 [==============================] - 0s 190us/step - loss: 0.1766 - acc: 0.6405\n",
      "Epoch 9/200\n",
      "1249/1249 [==============================] - 0s 190us/step - loss: 0.1744 - acc: 0.6061\n",
      "Epoch 10/200\n",
      "1249/1249 [==============================] - 0s 200us/step - loss: 0.1691 - acc: 0.6317\n",
      "Epoch 11/200\n",
      "1249/1249 [==============================] - 0s 187us/step - loss: 0.1676 - acc: 0.6421\n",
      "Epoch 12/200\n",
      "1249/1249 [==============================] - 0s 207us/step - loss: 0.1661 - acc: 0.6469\n",
      "Epoch 13/200\n",
      "1249/1249 [==============================] - 0s 184us/step - loss: 0.1660 - acc: 0.6381\n",
      "Epoch 14/200\n",
      "1249/1249 [==============================] - 0s 180us/step - loss: 0.1781 - acc: 0.6253\n",
      "Epoch 15/200\n",
      "1249/1249 [==============================] - 0s 192us/step - loss: 0.1642 - acc: 0.6525\n",
      "Epoch 16/200\n",
      "1249/1249 [==============================] - 0s 218us/step - loss: 0.1583 - acc: 0.6621\n",
      "Epoch 17/200\n",
      "1249/1249 [==============================] - 0s 195us/step - loss: 0.1635 - acc: 0.6437\n",
      "Epoch 18/200\n",
      "1249/1249 [==============================] - 0s 207us/step - loss: 0.1602 - acc: 0.6365\n",
      "Epoch 19/200\n",
      "1249/1249 [==============================] - 0s 210us/step - loss: 0.1651 - acc: 0.6533\n",
      "Epoch 20/200\n",
      "1249/1249 [==============================] - 0s 191us/step - loss: 0.1540 - acc: 0.6525\n",
      "Epoch 21/200\n",
      "1249/1249 [==============================] - 0s 225us/step - loss: 0.1662 - acc: 0.6365\n",
      "Epoch 22/200\n",
      "1249/1249 [==============================] - 0s 197us/step - loss: 0.1578 - acc: 0.6477\n",
      "Epoch 23/200\n",
      "1249/1249 [==============================] - 0s 207us/step - loss: 0.1633 - acc: 0.6341\n",
      "Epoch 24/200\n",
      "1249/1249 [==============================] - 0s 179us/step - loss: 0.1605 - acc: 0.6501\n",
      "Epoch 25/200\n",
      "1249/1249 [==============================] - 0s 193us/step - loss: 0.1606 - acc: 0.6501\n",
      "Epoch 26/200\n",
      "1249/1249 [==============================] - 0s 202us/step - loss: 0.1555 - acc: 0.6525\n",
      "Epoch 27/200\n",
      "1249/1249 [==============================] - 0s 223us/step - loss: 0.1550 - acc: 0.6733\n",
      "Epoch 28/200\n",
      "1249/1249 [==============================] - 0s 207us/step - loss: 0.1722 - acc: 0.6301\n",
      "Epoch 29/200\n",
      "1249/1249 [==============================] - 0s 187us/step - loss: 0.1533 - acc: 0.6637\n",
      "Epoch 30/200\n",
      "1249/1249 [==============================] - 0s 193us/step - loss: 0.1507 - acc: 0.6653\n",
      "Epoch 31/200\n",
      "1249/1249 [==============================] - 0s 201us/step - loss: 0.1544 - acc: 0.6685\n",
      "Epoch 32/200\n",
      "1249/1249 [==============================] - 0s 230us/step - loss: 0.1597 - acc: 0.6461\n",
      "Epoch 33/200\n",
      "1249/1249 [==============================] - 0s 215us/step - loss: 0.1701 - acc: 0.6501\n",
      "Epoch 34/200\n",
      "1249/1249 [==============================] - 0s 190us/step - loss: 0.1627 - acc: 0.6509\n",
      "Epoch 35/200\n",
      "1249/1249 [==============================] - 0s 192us/step - loss: 0.1544 - acc: 0.6677\n",
      "Epoch 36/200\n",
      "1249/1249 [==============================] - 0s 195us/step - loss: 0.1593 - acc: 0.6661\n",
      "Epoch 37/200\n",
      "1249/1249 [==============================] - 0s 227us/step - loss: 0.1503 - acc: 0.6741\n",
      "Epoch 38/200\n",
      "1249/1249 [==============================] - 0s 283us/step - loss: 0.1466 - acc: 0.6701\n",
      "Epoch 39/200\n",
      "1249/1249 [==============================] - 0s 212us/step - loss: 0.1472 - acc: 0.6886\n",
      "Epoch 40/200\n",
      "1249/1249 [==============================] - 0s 207us/step - loss: 0.1485 - acc: 0.6757\n",
      "Epoch 41/200\n",
      "1249/1249 [==============================] - 0s 211us/step - loss: 0.1484 - acc: 0.6781\n",
      "Epoch 42/200\n",
      "1249/1249 [==============================] - 0s 227us/step - loss: 0.1487 - acc: 0.6789\n",
      "Epoch 43/200\n",
      "1249/1249 [==============================] - 0s 221us/step - loss: 0.1490 - acc: 0.6685\n",
      "Epoch 44/200\n",
      "1249/1249 [==============================] - 0s 204us/step - loss: 0.1532 - acc: 0.6669\n",
      "Epoch 45/200\n",
      "1249/1249 [==============================] - 0s 194us/step - loss: 0.1480 - acc: 0.6733\n",
      "Epoch 46/200\n",
      "1249/1249 [==============================] - 0s 221us/step - loss: 0.1488 - acc: 0.6669\n",
      "Epoch 47/200\n",
      "1249/1249 [==============================] - 0s 181us/step - loss: 0.1510 - acc: 0.6701\n",
      "Epoch 48/200\n",
      "1249/1249 [==============================] - 0s 204us/step - loss: 0.1511 - acc: 0.6717\n",
      "Epoch 49/200\n",
      "1249/1249 [==============================] - 0s 182us/step - loss: 0.1480 - acc: 0.6709\n",
      "Epoch 50/200\n",
      "1249/1249 [==============================] - 0s 200us/step - loss: 0.1455 - acc: 0.6749\n",
      "Epoch 51/200\n",
      "1249/1249 [==============================] - 0s 186us/step - loss: 0.1487 - acc: 0.6789\n",
      "Epoch 52/200\n",
      "1249/1249 [==============================] - 0s 203us/step - loss: 0.1468 - acc: 0.6789\n",
      "Epoch 53/200\n",
      "1249/1249 [==============================] - 0s 215us/step - loss: 0.1446 - acc: 0.6861\n",
      "Epoch 54/200\n",
      "1249/1249 [==============================] - 0s 198us/step - loss: 0.1440 - acc: 0.6853\n",
      "Epoch 55/200\n",
      "1249/1249 [==============================] - 0s 183us/step - loss: 0.1470 - acc: 0.6781\n",
      "Epoch 56/200\n",
      "1249/1249 [==============================] - 0s 195us/step - loss: 0.1456 - acc: 0.6982\n",
      "Epoch 57/200\n",
      "1249/1249 [==============================] - 0s 179us/step - loss: 0.1474 - acc: 0.6725\n",
      "Epoch 58/200\n",
      "1249/1249 [==============================] - 0s 206us/step - loss: 0.1437 - acc: 0.6845\n",
      "Epoch 59/200\n",
      "1249/1249 [==============================] - 0s 202us/step - loss: 0.1454 - acc: 0.6837\n",
      "Epoch 60/200\n",
      "1249/1249 [==============================] - 0s 177us/step - loss: 0.1433 - acc: 0.6886\n",
      "Epoch 61/200\n",
      "1249/1249 [==============================] - 0s 193us/step - loss: 0.1470 - acc: 0.6805\n",
      "Epoch 62/200\n",
      "1249/1249 [==============================] - 0s 183us/step - loss: 0.1418 - acc: 0.6990\n",
      "Epoch 63/200\n",
      "1249/1249 [==============================] - 0s 172us/step - loss: 0.1461 - acc: 0.6629\n",
      "Epoch 64/200\n",
      "1249/1249 [==============================] - 0s 179us/step - loss: 0.1451 - acc: 0.6942\n",
      "Epoch 65/200\n",
      "1249/1249 [==============================] - 0s 193us/step - loss: 0.1476 - acc: 0.6781\n",
      "Epoch 66/200\n",
      "1249/1249 [==============================] - 0s 173us/step - loss: 0.1444 - acc: 0.6974\n",
      "Epoch 67/200\n",
      "1249/1249 [==============================] - 0s 203us/step - loss: 0.1407 - acc: 0.6974\n",
      "Epoch 68/200\n",
      "1249/1249 [==============================] - 0s 198us/step - loss: 0.1505 - acc: 0.6789\n",
      "Epoch 69/200\n",
      "1249/1249 [==============================] - 0s 184us/step - loss: 0.1422 - acc: 0.6878\n",
      "Epoch 70/200\n",
      "1249/1249 [==============================] - 0s 172us/step - loss: 0.1389 - acc: 0.7054\n",
      "Epoch 71/200\n",
      "1249/1249 [==============================] - 0s 199us/step - loss: 0.1422 - acc: 0.6829\n",
      "Epoch 72/200\n",
      "1249/1249 [==============================] - 0s 184us/step - loss: 0.1419 - acc: 0.6926\n",
      "Epoch 73/200\n",
      "1249/1249 [==============================] - 0s 185us/step - loss: 0.1418 - acc: 0.6902\n",
      "Epoch 74/200\n",
      "1249/1249 [==============================] - 0s 175us/step - loss: 0.1451 - acc: 0.6878\n",
      "Epoch 75/200\n",
      "1249/1249 [==============================] - 0s 180us/step - loss: 0.1407 - acc: 0.6926\n",
      "Epoch 76/200\n",
      "1249/1249 [==============================] - 0s 187us/step - loss: 0.1382 - acc: 0.7062\n",
      "Epoch 77/200\n",
      "1249/1249 [==============================] - 0s 175us/step - loss: 0.1439 - acc: 0.6910\n",
      "Epoch 78/200\n",
      "1249/1249 [==============================] - 0s 197us/step - loss: 0.1404 - acc: 0.6886\n",
      "Epoch 79/200\n",
      "1249/1249 [==============================] - 0s 195us/step - loss: 0.1439 - acc: 0.6749\n",
      "Epoch 80/200\n",
      "1249/1249 [==============================] - 0s 175us/step - loss: 0.1460 - acc: 0.6845\n",
      "Epoch 81/200\n"
     ]
    },
    {
     "name": "stdout",
     "output_type": "stream",
     "text": [
      "1249/1249 [==============================] - 0s 182us/step - loss: 0.1404 - acc: 0.7054\n",
      "Epoch 82/200\n",
      "1249/1249 [==============================] - 0s 170us/step - loss: 0.1410 - acc: 0.7006\n",
      "Epoch 83/200\n",
      "1249/1249 [==============================] - 0s 174us/step - loss: 0.1409 - acc: 0.6918\n",
      "Epoch 84/200\n",
      "1249/1249 [==============================] - 0s 171us/step - loss: 0.1380 - acc: 0.7030\n",
      "Epoch 85/200\n",
      "1249/1249 [==============================] - 0s 189us/step - loss: 0.1406 - acc: 0.7030\n",
      "Epoch 86/200\n",
      "1249/1249 [==============================] - 0s 189us/step - loss: 0.1396 - acc: 0.6886\n",
      "Epoch 87/200\n",
      "1249/1249 [==============================] - 0s 204us/step - loss: 0.1391 - acc: 0.6998\n",
      "Epoch 88/200\n",
      "1249/1249 [==============================] - 0s 193us/step - loss: 0.1432 - acc: 0.6974\n",
      "Epoch 89/200\n",
      "1249/1249 [==============================] - 0s 194us/step - loss: 0.1384 - acc: 0.7006\n",
      "Epoch 90/200\n",
      "1249/1249 [==============================] - 0s 186us/step - loss: 0.1368 - acc: 0.7182\n",
      "Epoch 91/200\n",
      "1249/1249 [==============================] - 0s 200us/step - loss: 0.1389 - acc: 0.6950\n",
      "Epoch 92/200\n",
      "1249/1249 [==============================] - 0s 199us/step - loss: 0.1392 - acc: 0.7078\n",
      "Epoch 93/200\n",
      "1249/1249 [==============================] - 0s 201us/step - loss: 0.1441 - acc: 0.6982\n",
      "Epoch 94/200\n",
      "1249/1249 [==============================] - 0s 207us/step - loss: 0.1417 - acc: 0.6990\n",
      "Epoch 95/200\n",
      "1249/1249 [==============================] - 0s 176us/step - loss: 0.1423 - acc: 0.6950\n",
      "Epoch 96/200\n",
      "1249/1249 [==============================] - 0s 178us/step - loss: 0.1378 - acc: 0.7190\n",
      "Epoch 97/200\n",
      "1249/1249 [==============================] - 0s 171us/step - loss: 0.1405 - acc: 0.6950\n",
      "Epoch 98/200\n",
      "1249/1249 [==============================] - 0s 182us/step - loss: 0.1374 - acc: 0.6982\n",
      "Epoch 99/200\n",
      "1249/1249 [==============================] - 0s 209us/step - loss: 0.1388 - acc: 0.6998\n",
      "Epoch 100/200\n",
      "1249/1249 [==============================] - 0s 199us/step - loss: 0.1373 - acc: 0.7038\n",
      "Epoch 101/200\n",
      "1249/1249 [==============================] - 0s 183us/step - loss: 0.1390 - acc: 0.6990\n",
      "Epoch 102/200\n",
      "1249/1249 [==============================] - 0s 205us/step - loss: 0.1357 - acc: 0.7110\n",
      "Epoch 103/200\n",
      "1249/1249 [==============================] - 0s 192us/step - loss: 0.1382 - acc: 0.7102\n",
      "Epoch 104/200\n",
      "1249/1249 [==============================] - 0s 187us/step - loss: 0.1371 - acc: 0.7150\n",
      "Epoch 105/200\n",
      "1249/1249 [==============================] - 0s 204us/step - loss: 0.1382 - acc: 0.7174\n",
      "Epoch 106/200\n",
      "1249/1249 [==============================] - 0s 207us/step - loss: 0.1399 - acc: 0.6974\n",
      "Epoch 107/200\n",
      "1249/1249 [==============================] - 0s 204us/step - loss: 0.1383 - acc: 0.7094\n",
      "Epoch 108/200\n",
      "1249/1249 [==============================] - 0s 203us/step - loss: 0.1360 - acc: 0.7086\n",
      "Epoch 109/200\n",
      "1249/1249 [==============================] - 0s 193us/step - loss: 0.1356 - acc: 0.7174\n",
      "Epoch 110/200\n",
      "1249/1249 [==============================] - 0s 205us/step - loss: 0.1358 - acc: 0.7182\n",
      "Epoch 111/200\n",
      "1249/1249 [==============================] - 0s 213us/step - loss: 0.1358 - acc: 0.7174\n",
      "Epoch 112/200\n",
      "1249/1249 [==============================] - 0s 175us/step - loss: 0.1365 - acc: 0.7070\n",
      "Epoch 113/200\n",
      "1249/1249 [==============================] - 0s 191us/step - loss: 0.1365 - acc: 0.7094\n",
      "Epoch 114/200\n",
      "1249/1249 [==============================] - 0s 195us/step - loss: 0.1377 - acc: 0.7102\n",
      "Epoch 115/200\n",
      "1249/1249 [==============================] - 0s 186us/step - loss: 0.1381 - acc: 0.7006\n",
      "Epoch 116/200\n",
      "1249/1249 [==============================] - 0s 211us/step - loss: 0.1362 - acc: 0.7118\n",
      "Epoch 117/200\n",
      "1249/1249 [==============================] - 0s 191us/step - loss: 0.1358 - acc: 0.7174\n",
      "Epoch 118/200\n",
      "1249/1249 [==============================] - 0s 184us/step - loss: 0.1367 - acc: 0.7046\n",
      "Epoch 119/200\n",
      "1249/1249 [==============================] - 0s 193us/step - loss: 0.1384 - acc: 0.7038\n",
      "Epoch 120/200\n",
      "1249/1249 [==============================] - 0s 194us/step - loss: 0.1379 - acc: 0.7246\n",
      "Epoch 121/200\n",
      "1249/1249 [==============================] - 0s 199us/step - loss: 0.1390 - acc: 0.7014\n",
      "Epoch 122/200\n",
      "1249/1249 [==============================] - 0s 204us/step - loss: 0.1343 - acc: 0.7230\n",
      "Epoch 123/200\n",
      "1249/1249 [==============================] - 0s 189us/step - loss: 0.1352 - acc: 0.7118\n",
      "Epoch 124/200\n",
      "1249/1249 [==============================] - 0s 194us/step - loss: 0.1360 - acc: 0.7158\n",
      "Epoch 125/200\n",
      "1249/1249 [==============================] - 0s 191us/step - loss: 0.1362 - acc: 0.7150\n",
      "Epoch 126/200\n",
      "1249/1249 [==============================] - 0s 177us/step - loss: 0.1353 - acc: 0.7174\n",
      "Epoch 127/200\n",
      "1249/1249 [==============================] - 0s 179us/step - loss: 0.1366 - acc: 0.7182\n",
      "Epoch 128/200\n",
      "1249/1249 [==============================] - 0s 191us/step - loss: 0.1340 - acc: 0.7246\n",
      "Epoch 129/200\n",
      "1249/1249 [==============================] - 0s 177us/step - loss: 0.1354 - acc: 0.7214\n",
      "Epoch 130/200\n",
      "1249/1249 [==============================] - 0s 176us/step - loss: 0.1355 - acc: 0.7230\n",
      "Epoch 131/200\n",
      "1249/1249 [==============================] - 0s 179us/step - loss: 0.1336 - acc: 0.7270\n",
      "Epoch 132/200\n",
      "1249/1249 [==============================] - 0s 170us/step - loss: 0.1347 - acc: 0.7094\n",
      "Epoch 133/200\n",
      "1249/1249 [==============================] - 0s 183us/step - loss: 0.1375 - acc: 0.7158\n",
      "Epoch 134/200\n",
      "1249/1249 [==============================] - 0s 169us/step - loss: 0.1343 - acc: 0.7198\n",
      "Epoch 135/200\n",
      "1249/1249 [==============================] - 0s 176us/step - loss: 0.1333 - acc: 0.7214\n",
      "Epoch 136/200\n",
      "1249/1249 [==============================] - 0s 187us/step - loss: 0.1335 - acc: 0.7238\n",
      "Epoch 137/200\n",
      "1249/1249 [==============================] - 0s 215us/step - loss: 0.1338 - acc: 0.7206\n",
      "Epoch 138/200\n",
      "1249/1249 [==============================] - 0s 188us/step - loss: 0.1344 - acc: 0.7310\n",
      "Epoch 139/200\n",
      "1249/1249 [==============================] - 0s 179us/step - loss: 0.1357 - acc: 0.7142\n",
      "Epoch 140/200\n",
      "1249/1249 [==============================] - 0s 185us/step - loss: 0.1350 - acc: 0.7198\n",
      "Epoch 141/200\n",
      "1249/1249 [==============================] - 0s 211us/step - loss: 0.1367 - acc: 0.7206\n",
      "Epoch 142/200\n",
      "1249/1249 [==============================] - 0s 186us/step - loss: 0.1371 - acc: 0.7078\n",
      "Epoch 143/200\n",
      "1249/1249 [==============================] - 0s 201us/step - loss: 0.1342 - acc: 0.7278\n",
      "Epoch 144/200\n",
      "1249/1249 [==============================] - 0s 200us/step - loss: 0.1331 - acc: 0.7166\n",
      "Epoch 145/200\n",
      "1249/1249 [==============================] - 0s 178us/step - loss: 0.1368 - acc: 0.7102\n",
      "Epoch 146/200\n",
      "1249/1249 [==============================] - 0s 195us/step - loss: 0.1351 - acc: 0.7022\n",
      "Epoch 147/200\n",
      "1249/1249 [==============================] - 0s 194us/step - loss: 0.1350 - acc: 0.7198\n",
      "Epoch 148/200\n",
      "1249/1249 [==============================] - 0s 182us/step - loss: 0.1341 - acc: 0.7286\n",
      "Epoch 149/200\n",
      "1249/1249 [==============================] - 0s 197us/step - loss: 0.1337 - acc: 0.7286\n",
      "Epoch 150/200\n",
      "1249/1249 [==============================] - 0s 172us/step - loss: 0.1340 - acc: 0.7206\n",
      "Epoch 151/200\n",
      "1249/1249 [==============================] - 0s 193us/step - loss: 0.1354 - acc: 0.7198\n",
      "Epoch 152/200\n",
      "1249/1249 [==============================] - 0s 197us/step - loss: 0.1373 - acc: 0.7230\n",
      "Epoch 153/200\n",
      "1249/1249 [==============================] - 0s 188us/step - loss: 0.1353 - acc: 0.7190\n",
      "Epoch 154/200\n",
      "1249/1249 [==============================] - 0s 187us/step - loss: 0.1348 - acc: 0.7198\n",
      "Epoch 155/200\n",
      "1249/1249 [==============================] - 0s 197us/step - loss: 0.1344 - acc: 0.7182\n",
      "Epoch 156/200\n",
      "1249/1249 [==============================] - 0s 188us/step - loss: 0.1338 - acc: 0.7230\n",
      "Epoch 157/200\n",
      "1249/1249 [==============================] - 0s 194us/step - loss: 0.1341 - acc: 0.7206\n",
      "Epoch 158/200\n",
      "1249/1249 [==============================] - 0s 184us/step - loss: 0.1341 - acc: 0.7270\n",
      "Epoch 159/200\n",
      "1249/1249 [==============================] - 0s 190us/step - loss: 0.1324 - acc: 0.7198\n",
      "Epoch 160/200\n",
      "1249/1249 [==============================] - 0s 189us/step - loss: 0.1337 - acc: 0.7246\n",
      "Epoch 161/200\n"
     ]
    },
    {
     "name": "stdout",
     "output_type": "stream",
     "text": [
      "1249/1249 [==============================] - 0s 192us/step - loss: 0.1346 - acc: 0.7254\n",
      "Epoch 162/200\n",
      "1249/1249 [==============================] - 0s 218us/step - loss: 0.1344 - acc: 0.7190\n",
      "Epoch 163/200\n",
      "1249/1249 [==============================] - 0s 194us/step - loss: 0.1354 - acc: 0.7182\n",
      "Epoch 164/200\n",
      "1249/1249 [==============================] - 0s 184us/step - loss: 0.1347 - acc: 0.7166\n",
      "Epoch 165/200\n",
      "1249/1249 [==============================] - 0s 183us/step - loss: 0.1336 - acc: 0.7190\n",
      "Epoch 166/200\n",
      "1249/1249 [==============================] - 0s 181us/step - loss: 0.1336 - acc: 0.7246\n",
      "Epoch 167/200\n",
      "1249/1249 [==============================] - 0s 189us/step - loss: 0.1343 - acc: 0.7142\n",
      "Epoch 168/200\n",
      "1249/1249 [==============================] - 0s 197us/step - loss: 0.1339 - acc: 0.7286\n",
      "Epoch 169/200\n",
      "1249/1249 [==============================] - 0s 193us/step - loss: 0.1334 - acc: 0.7214\n",
      "Epoch 170/200\n",
      "1249/1249 [==============================] - 0s 176us/step - loss: 0.1338 - acc: 0.7350\n",
      "Epoch 171/200\n",
      "1249/1249 [==============================] - 0s 190us/step - loss: 0.1330 - acc: 0.7174\n",
      "Epoch 172/200\n",
      "1249/1249 [==============================] - 0s 173us/step - loss: 0.1346 - acc: 0.7198\n",
      "Epoch 173/200\n",
      "1249/1249 [==============================] - 0s 182us/step - loss: 0.1337 - acc: 0.7278\n",
      "Epoch 174/200\n",
      "1249/1249 [==============================] - 0s 174us/step - loss: 0.1341 - acc: 0.7278\n",
      "Epoch 175/200\n",
      "1249/1249 [==============================] - 0s 170us/step - loss: 0.1336 - acc: 0.7214\n",
      "Epoch 176/200\n",
      "1249/1249 [==============================] - 0s 186us/step - loss: 0.1338 - acc: 0.7326\n",
      "Epoch 177/200\n",
      "1249/1249 [==============================] - 0s 192us/step - loss: 0.1333 - acc: 0.7182\n",
      "Epoch 178/200\n",
      "1249/1249 [==============================] - 0s 175us/step - loss: 0.1325 - acc: 0.7278\n",
      "Epoch 179/200\n",
      "1249/1249 [==============================] - 0s 189us/step - loss: 0.1340 - acc: 0.7246\n",
      "Epoch 180/200\n",
      "1249/1249 [==============================] - 0s 173us/step - loss: 0.1330 - acc: 0.7302\n",
      "Epoch 181/200\n",
      "1249/1249 [==============================] - 0s 176us/step - loss: 0.1317 - acc: 0.7246\n",
      "Epoch 182/200\n",
      "1249/1249 [==============================] - 0s 201us/step - loss: 0.1314 - acc: 0.7374\n",
      "Epoch 183/200\n",
      "1249/1249 [==============================] - 0s 205us/step - loss: 0.1338 - acc: 0.7254\n",
      "Epoch 184/200\n",
      "1249/1249 [==============================] - 0s 184us/step - loss: 0.1331 - acc: 0.7230\n",
      "Epoch 185/200\n",
      "1249/1249 [==============================] - 0s 195us/step - loss: 0.1312 - acc: 0.7222\n",
      "Epoch 186/200\n",
      "1249/1249 [==============================] - 0s 188us/step - loss: 0.1324 - acc: 0.7334\n",
      "Epoch 187/200\n",
      "1249/1249 [==============================] - 0s 187us/step - loss: 0.1319 - acc: 0.7246\n",
      "Epoch 188/200\n",
      "1249/1249 [==============================] - 0s 193us/step - loss: 0.1333 - acc: 0.7198\n",
      "Epoch 189/200\n",
      "1249/1249 [==============================] - 0s 178us/step - loss: 0.1329 - acc: 0.7262\n",
      "Epoch 190/200\n",
      "1249/1249 [==============================] - 0s 188us/step - loss: 0.1312 - acc: 0.7166\n",
      "Epoch 191/200\n",
      "1249/1249 [==============================] - 0s 221us/step - loss: 0.1338 - acc: 0.7238\n",
      "Epoch 192/200\n",
      "1249/1249 [==============================] - 0s 199us/step - loss: 0.1316 - acc: 0.7302\n",
      "Epoch 193/200\n",
      "1249/1249 [==============================] - 0s 177us/step - loss: 0.1349 - acc: 0.7150\n",
      "Epoch 194/200\n",
      "1249/1249 [==============================] - 0s 194us/step - loss: 0.1311 - acc: 0.7174\n",
      "Epoch 195/200\n",
      "1249/1249 [==============================] - 0s 177us/step - loss: 0.1313 - acc: 0.7302\n",
      "Epoch 196/200\n",
      "1249/1249 [==============================] - 0s 184us/step - loss: 0.1318 - acc: 0.7318\n",
      "Epoch 197/200\n",
      "1249/1249 [==============================] - 0s 193us/step - loss: 0.1318 - acc: 0.7262\n",
      "Epoch 198/200\n",
      "1249/1249 [==============================] - 0s 205us/step - loss: 0.1314 - acc: 0.7262\n",
      "Epoch 199/200\n",
      "1249/1249 [==============================] - 0s 184us/step - loss: 0.1315 - acc: 0.7302\n",
      "Epoch 200/200\n",
      "1249/1249 [==============================] - 0s 191us/step - loss: 0.1313 - acc: 0.7294\n",
      "417/417 [==============================] - 1s 3ms/step\n",
      "[0.14935433142762675, 0.685851318373097]\n",
      "Accuracy: 0.63\n"
     ]
    },
    {
     "data": {
      "text/plain": [
       "array([[88, 26, 29],\n",
       "       [28, 99, 27],\n",
       "       [37,  9, 74]])"
      ]
     },
     "execution_count": 380,
     "metadata": {},
     "output_type": "execute_result"
    }
   ],
   "source": [
    "# preparing data and preprocessing with the new set of data\n",
    "# I decided to go with just terrain type as I understood it to give me a better performance\n",
    "\n",
    "fin_dat = pandas.DataFrame(raw_data[[\"class\",\"latitude\", \"longitude\", \"terrainType\"]])\n",
    "fin_dat2 = (fin_dat.loc[fin_dat[\"class\"].isin([name_dict['Diglett'], name_dict['Seel'],name_dict['Tauros']])])\n",
    "\n",
    "Xnew = fin_dat2.loc[:,['latitude', 'longitude', 'terrainType']]\n",
    "Ynew = fin_dat2.loc[:,['class']]\n",
    "temp_new = []\n",
    "for item in Y['class']: #one hot encoding of the output data\n",
    "    if item == 50:\n",
    "        temp_new.append([1,0,0])\n",
    "    elif item == 86:\n",
    "        temp_new.append([0,1,0])\n",
    "    elif item == 128:\n",
    "        temp_new.append([0,0,1])\n",
    "\n",
    "Ysoftnew = pandas.DataFrame(temp_new)\n",
    "\n",
    "#separating training, validation and test data\n",
    "\n",
    "trainX_new, testX_new = np.split(Xnew, [int(0.8*(len(X)))])\n",
    "trainY_new, testY_new = np.split(Ysoftnew, [int(0.8*(len(X)))])\n",
    "trainX_new1, validX1_new = np.split(trainX_new, [int(0.75*len(trainX_new))])\n",
    "trainY_new1, validY1_new = np.split(trainY_new, [int(0.75*(len(trainY_new)))])\n",
    "print(trainY_new1.shape, trainX_new1.shape, validX1_new.shape, validY1_new.shape)\n",
    "\n",
    "#Neural Network Architecture and training\n",
    "\n",
    "model_new = Sequential()\n",
    "\n",
    "model_new.add(Dense(units = 99, activation = 'relu', input_dim = 3))\n",
    "model_new.add(Dense(units = 25, activation = 'relu'))\n",
    "model_new.add(Dense(units = 3, activation = 'softmax'))\n",
    "\n",
    "model_new.compile(loss= 'mean_squared_error', \n",
    "              optimizer=Adam(lr = 0.001),\n",
    "              metrics=['accuracy'])\n",
    "model_new.fit(trainX_new1, trainY_new1, epochs=200, batch_size = 20)\n",
    "\n",
    "#Validating the model\n",
    "loss_and_metrics1 = model_new.evaluate(validX1_new, validY1_new, batch_size=20)\n",
    "print(loss_and_metrics1)\n",
    "\n",
    "#Checking the model against the validation set\n",
    "yhat_new = model_new.predict(testX_new, batch_size = 20)\n",
    "matY_new = testY_new.values\n",
    "y1_new = np.argmax(matY_new, axis=1)\n",
    "yhat1_new = np.argmax(yhat_new, axis=1)\n",
    "acc1 = accuracy_score(y1_new, yhat1_new)\n",
    "print(\"Accuracy: %.2f\" % acc1)\n",
    "\n",
    "confusion_matrix(y1_new, yhat1_new)\n",
    "\n",
    "#the accuracy sees a slight improvement but the confusion matrix shows that the model is able to better categorize 'Diglett'"
   ]
  },
  {
   "cell_type": "code",
   "execution_count": null,
   "metadata": {},
   "outputs": [],
   "source": []
  }
 ],
 "metadata": {
  "kernelspec": {
   "display_name": "Python 3",
   "language": "python",
   "name": "python3"
  },
  "language_info": {
   "codemirror_mode": {
    "name": "ipython",
    "version": 3
   },
   "file_extension": ".py",
   "mimetype": "text/x-python",
   "name": "python",
   "nbconvert_exporter": "python",
   "pygments_lexer": "ipython3",
   "version": "3.6.6"
  }
 },
 "nbformat": 4,
 "nbformat_minor": 2
}
